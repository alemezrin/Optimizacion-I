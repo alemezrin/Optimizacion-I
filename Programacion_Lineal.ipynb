{
  "nbformat": 4,
  "nbformat_minor": 0,
  "metadata": {
    "colab": {
      "name": "Programacion Lineal.ipynb",
      "provenance": [],
      "collapsed_sections": [],
      "toc_visible": true,
      "authorship_tag": "ABX9TyPHicoWaW3Qs+E85QUsJHPJ",
      "include_colab_link": true
    },
    "kernelspec": {
      "name": "python3",
      "display_name": "Python 3"
    },
    "language_info": {
      "name": "python"
    }
  },
  "cells": [
    {
      "cell_type": "markdown",
      "metadata": {
        "id": "view-in-github",
        "colab_type": "text"
      },
      "source": [
        "<a href=\"https://colab.research.google.com/github/alemezrin/Optimizacion-I/blob/main/Programacion_Lineal.ipynb\" target=\"_parent\"><img src=\"https://colab.research.google.com/assets/colab-badge.svg\" alt=\"Open In Colab\"/></a>"
      ]
    },
    {
      "cell_type": "markdown",
      "source": [
        "# **Programación Lineal**\n",
        "\n",
        "La programación lineal es un método mediante el cual se optimiza, ya sea maximizando o minimizando, una función objetivo, donde las variables están elevadas a la potencia  es, entonces, un proceso por el cual se maximizará una función lineal. Esto, tomando en cuenta distintas restricciones dadas.\n",
        "\n",
        "<BR>\n",
        "\n",
        "Los principales elementos de la programación lineal son los siguientes:\n",
        "\n",
        "<br>\n",
        "\n",
        "> 1.   **Función objetivo:** Es aquella función que se optimiza, ya sea maximizando o minimizando su resultado.<br><br>\n",
        "2.   **Restricciones:** Son aquellas condiciones que deben cumplirse al optimizar la función objetivo. Puede tratarse de ecuaciones o inecuaciones algebraicas.\n",
        "\n",
        "<br>\n",
        "\n",
        "Para analizar este metodo utilizaremos el siguiente Problema con su funcion objetivo y sus restricciones."
      ],
      "metadata": {
        "id": "QssVMKYeV216"
      }
    },
    {
      "cell_type": "markdown",
      "source": [
        "## **Problema**\n",
        "\n",
        "Una empresa en Cali está estudiando llevar a cabo una campaña publicitaria para un candidato politico, para ello dispone de 100.000.000 millones de pesos. Puede difundir sus anuncios en dos canales publicitarios caracol y RCN, Caracol cobra 15.000 pesos cada vez que emite un anuncio, mientras que RCN cobra 30.000 pesos. La probabilidad de que un anuncio del primer canal sea visto es del 30 %, mientras que del segundo es del 70 %. Como mínimo deben emitirse 26 anuncios en el primer canal y 13 en el segundo. La empresa solicita determinar el número de anuncios que debe lanzar en cada canal de manera que maximice la probabilidad de que se vea el anuncio de la empresa, teniendo en cuenta la restricción\n",
        "presupuestaria y las del número de anuncios."
      ],
      "metadata": {
        "id": "CP_aabmeBo7H"
      }
    },
    {
      "cell_type": "markdown",
      "source": [
        "## **Solución**\n"
      ],
      "metadata": {
        "id": "Upk--RNiZU-J"
      }
    },
    {
      "cell_type": "markdown",
      "source": [
        "### ***Varables de decisión***\n",
        "\n",
        "$x_1$: Número de anuncios a emitir en el canal Caracol.\n",
        "\n",
        "$x_2$: Número de anuncios a emitir en el canal RCN."
      ],
      "metadata": {
        "id": "LPJGvFRbW_0Z"
      }
    },
    {
      "cell_type": "markdown",
      "source": [
        "### ***Función Objetivo***\n",
        "\n",
        "Minimizar el costo total de los anuncios por canal.\n",
        "\n",
        "<br>\n",
        "\n",
        " $$ z=min\\left\\lbrace 15000x_1+30000x_2\\right\\rbrace $$"
      ],
      "metadata": {
        "id": "6kigtRGUcIJb"
      }
    },
    {
      "cell_type": "markdown",
      "source": [
        "### ***Restricciones***\n",
        "\n",
        "\n",
        ">**1.   Restriccion de porcentajes:**\n",
        "<br><br>\n",
        " $$ Max\\left\\lbrace 0.3x_1+0.7x_2\\right\\rbrace $$\n",
        " $$x_1+x_2=100$$\n",
        "<br>\n",
        "**2.   Restriccion de presupuesto:**\n",
        "<br><br>\n",
        "$$15000x_1+30000x_2 \\le 100000000$$\n",
        "<br>\n",
        "**3.   Restricción del número de anuncios mínimo en Caracol:**\n",
        "<br><br>\n",
        "$$x_1 \\geq 23$$\n",
        "<br>\n",
        "**4.   Restricción del número de anuncios mínimo en RCN:**\n",
        "<br><br>\n",
        "$$x_2 \\geq 13$$\n",
        "<br>\n",
        "**5.   Restricción de no negatividad de las variables:**\n",
        "<br><br>\n",
        "$$x_1 \\geq 0$$\n",
        "$$x_2 \\geq 0$$\n",
        "<br>\n"
      ],
      "metadata": {
        "id": "8s6rryrkePIM"
      }
    },
    {
      "cell_type": "code",
      "source": [
        "# Instalo PuLP\n",
        "!pip install PuLP"
      ],
      "metadata": {
        "colab": {
          "base_uri": "https://localhost:8080/"
        },
        "id": "_XHPWNuXZShh",
        "outputId": "a323fa74-37a6-4e7d-d2bf-2750e2257d1f"
      },
      "execution_count": 183,
      "outputs": [
        {
          "output_type": "stream",
          "name": "stdout",
          "text": [
            "Requirement already satisfied: PuLP in /usr/local/lib/python3.7/dist-packages (2.6.0)\n"
          ]
        }
      ]
    },
    {
      "cell_type": "code",
      "source": [
        "# Importo paquetes\n",
        "import pulp\n",
        "import numpy as np\n",
        "import matplotlib.pyplot as plt\n",
        "from scipy import optimize"
      ],
      "metadata": {
        "id": "auqbxNaraCsM"
      },
      "execution_count": 184,
      "outputs": []
    },
    {
      "cell_type": "code",
      "source": [
        "# Almaceno problema\n",
        "prob = pulp.LpProblem(\"Problema_de_Anuncios_Publicitarios\", pulp.LpMinimize)\n",
        "\n",
        "prob"
      ],
      "metadata": {
        "colab": {
          "base_uri": "https://localhost:8080/"
        },
        "id": "9JRoVptlabsy",
        "outputId": "618a949f-5715-45b1-9a07-aeb44947fc09"
      },
      "execution_count": 185,
      "outputs": [
        {
          "output_type": "execute_result",
          "data": {
            "text/plain": [
              "Problema_de_Anuncios_Publicitarios:\n",
              "MINIMIZE\n",
              "None\n",
              "VARIABLES"
            ]
          },
          "metadata": {},
          "execution_count": 185
        }
      ]
    },
    {
      "cell_type": "code",
      "source": [
        "# Almaceno porcentajes\n",
        "x1=pulp.LpVariable(\"Porcentaje_de_Anuncio_de_Caracol\", 0)\n",
        "x2=pulp.LpVariable(\"Porcentaje_de_Anuncio_de_RCN\", 0)"
      ],
      "metadata": {
        "id": "ajtjtENrV9aH"
      },
      "execution_count": 186,
      "outputs": []
    },
    {
      "cell_type": "code",
      "source": [
        "# Ingreso la función objetivo al problema prob:=\"Problema de Anuncios publicitarios\"\n",
        "prob += 15000*x1+30000*x2 , \"Costo total de Anuncios por canal\"\n",
        "\n",
        "# Ingreso la restricción de sumas de porcentajes a prob\n",
        "prob += 0.3*x1 +0.7*x2 == 100, \"Suma_de_Porcentaje\"\n",
        "\n",
        "# Ingreso la restricción de presupuesto a prob\n",
        "prob += 15000*x1 + 30000*x2 <= 100000000, \"Req_Presupuesto\"\n",
        "\n",
        "# Ingreso la restricción del número de anuncios mínimo en Caracol a prob\n",
        "prob += 15000*x1>= 23, \"Req_Anuncios_Caracol\"\n",
        "\n",
        "# Ingreso la restricción del número de anuncios mínimo en RCN a prob\n",
        "prob += 30000*x2 >= 13, \"Req_Anuncios_RCN\"\n",
        "\n",
        "# Ingreso la restricción de no negatividad de las variables a prob\n",
        "prob += x1>= 0, \"Req_Anuncios_Caracol_Positivos\"\n",
        "prob += x2>= 0, \"Req_Anuncios_RCN_Positivos\"\n",
        "\n",
        "prob"
      ],
      "metadata": {
        "colab": {
          "base_uri": "https://localhost:8080/"
        },
        "id": "u8C7qYjjdP-d",
        "outputId": "dbbe23e4-50c5-4c73-dcd1-47efaab20032"
      },
      "execution_count": 187,
      "outputs": [
        {
          "output_type": "execute_result",
          "data": {
            "text/plain": [
              "Problema_de_Anuncios_Publicitarios:\n",
              "MINIMIZE\n",
              "15000*Porcentaje_de_Anuncio_de_Caracol + 30000*Porcentaje_de_Anuncio_de_RCN + 0\n",
              "SUBJECT TO\n",
              "Suma_de_Porcentaje: 0.3 Porcentaje_de_Anuncio_de_Caracol\n",
              " + 0.7 Porcentaje_de_Anuncio_de_RCN = 100\n",
              "\n",
              "Req_Presupuesto: 15000 Porcentaje_de_Anuncio_de_Caracol\n",
              " + 30000 Porcentaje_de_Anuncio_de_RCN <= 100000000\n",
              "\n",
              "Req_Anuncios_Caracol: 15000 Porcentaje_de_Anuncio_de_Caracol >= 23\n",
              "\n",
              "Req_Anuncios_RCN: 30000 Porcentaje_de_Anuncio_de_RCN >= 13\n",
              "\n",
              "Req_Anuncios_Caracol_Positivos: Porcentaje_de_Anuncio_de_Caracol >= 0\n",
              "\n",
              "Req_Anuncios_RCN_Positivos: Porcentaje_de_Anuncio_de_RCN >= 0\n",
              "\n",
              "VARIABLES\n",
              "Porcentaje_de_Anuncio_de_Caracol Continuous\n",
              "Porcentaje_de_Anuncio_de_RCN Continuous"
            ]
          },
          "metadata": {},
          "execution_count": 187
        }
      ]
    },
    {
      "cell_type": "markdown",
      "source": [
        "### ***Escribimos el Archivo .lp***\n",
        "\n",
        "Generamos el archivo .lp asociado a nuestro modelo de programación lineal"
      ],
      "metadata": {
        "id": "ZlUDPkhjquQW"
      }
    },
    {
      "cell_type": "code",
      "source": [
        "prob.writeLP(\"Modelo_Anuncios.lp\")"
      ],
      "metadata": {
        "colab": {
          "base_uri": "https://localhost:8080/"
        },
        "id": "jlPpsrq4oZCz",
        "outputId": "0c6d29b6-d859-4b9f-d6bc-355408b4b488"
      },
      "execution_count": 188,
      "outputs": [
        {
          "output_type": "execute_result",
          "data": {
            "text/plain": [
              "[Porcentaje_de_Anuncio_de_Caracol, Porcentaje_de_Anuncio_de_RCN]"
            ]
          },
          "metadata": {},
          "execution_count": 188
        }
      ]
    },
    {
      "cell_type": "markdown",
      "source": [
        "### ***Solucion del PL***\n",
        "\n",
        "Solución de forma estandar"
      ],
      "metadata": {
        "id": "3QicP5tWrJIr"
      }
    },
    {
      "cell_type": "code",
      "source": [
        "prob.solve()"
      ],
      "metadata": {
        "colab": {
          "base_uri": "https://localhost:8080/"
        },
        "id": "ca0o695irjWj",
        "outputId": "ae658acd-85f4-4ade-a8c9-22a51bf636f6"
      },
      "execution_count": 189,
      "outputs": [
        {
          "output_type": "execute_result",
          "data": {
            "text/plain": [
              "1"
            ]
          },
          "metadata": {},
          "execution_count": 189
        }
      ]
    },
    {
      "cell_type": "code",
      "source": [
        "pulp.value(prob.objective)  #sirve para ver el valor que tomó la función objetivo en el optimo"
      ],
      "metadata": {
        "colab": {
          "base_uri": "https://localhost:8080/"
        },
        "id": "NitHkqyQrsmZ",
        "outputId": "d98db04c-4788-4741-bce9-27f8d6aaedc8"
      },
      "execution_count": 190,
      "outputs": [
        {
          "output_type": "execute_result",
          "data": {
            "text/plain": [
              "4285717.6999995"
            ]
          },
          "metadata": {},
          "execution_count": 190
        }
      ]
    },
    {
      "cell_type": "code",
      "source": [
        "pulp.LpStatus[prob.status] #Sirve para saber el estado del problema"
      ],
      "metadata": {
        "colab": {
          "base_uri": "https://localhost:8080/",
          "height": 35
        },
        "id": "eUCJe6u1rytj",
        "outputId": "4edeb9db-0086-4261-bd36-d7968834f931"
      },
      "execution_count": 191,
      "outputs": [
        {
          "output_type": "execute_result",
          "data": {
            "text/plain": [
              "'Optimal'"
            ],
            "application/vnd.google.colaboratory.intrinsic+json": {
              "type": "string"
            }
          },
          "metadata": {},
          "execution_count": 191
        }
      ]
    },
    {
      "cell_type": "code",
      "source": [
        "print ('==========================================================')\n",
        "print ('||               **SOLUCIÓN DEL PROBLEMA**              ||')\n",
        "print ('==========================================================')\n",
        "print(\"||  El estaus final de la solución es:\", pulp.LpStatus[prob.status],'         ||')\n",
        "print(\"||  El valor de la función objetivo es:\", pulp.value(prob.objective),'    ||')\n",
        "print ('==========================================================')\n",
        "print(\"||                 Reporte de variables                 ||\")\n",
        "print ('==========================================================')\n",
        "print('|| ',x1, \"=\" , pulp.value(x1), '                    ||')\n",
        "print('|| ',x2, \"=\" , pulp.value(x2), '                    ||')\n",
        "print ('==========================================================')"
      ],
      "metadata": {
        "colab": {
          "base_uri": "https://localhost:8080/"
        },
        "id": "0aOmb-Uwr4sH",
        "outputId": "bc18e20f-f11b-4df1-dcfb-44e657643884"
      },
      "execution_count": 192,
      "outputs": [
        {
          "output_type": "stream",
          "name": "stdout",
          "text": [
            "==========================================================\n",
            "||               **SOLUCIÓN DEL PROBLEMA**              ||\n",
            "==========================================================\n",
            "||  El estaus final de la solución es: Optimal          ||\n",
            "||  El valor de la función objetivo es: 4285717.6999995     ||\n",
            "==========================================================\n",
            "||                 Reporte de variables                 ||\n",
            "==========================================================\n",
            "||  Porcentaje_de_Anuncio_de_Caracol = 0.0015333333                     ||\n",
            "||  Porcentaje_de_Anuncio_de_RCN = 142.85649                     ||\n",
            "==========================================================\n"
          ]
        }
      ]
    },
    {
      "cell_type": "markdown",
      "source": [
        "### ***Análisis de Holgura***"
      ],
      "metadata": {
        "id": "k-ZS7lryw10v"
      }
    },
    {
      "cell_type": "code",
      "execution_count": 193,
      "metadata": {
        "id": "Ost6x2uUfd3Q",
        "outputId": "67aaf911-40a3-40d0-ebea-cb093574d61e",
        "colab": {
          "base_uri": "https://localhost:8080/"
        }
      },
      "outputs": [
        {
          "output_type": "stream",
          "name": "stdout",
          "text": [
            "Análisis de Holgura\n",
            "Suma_de_Porcentaje : -0.0 |Sombra: 42857.143\n",
            "Req_Presupuesto : 95714282.4 |Sombra: 0.0\n",
            "Req_Anuncios_Caracol : -0.0 |Sombra: 0.14285714\n",
            "Req_Anuncios_RCN : -4285681.6 |Sombra: 0.0\n",
            "Req_Anuncios_Caracol_Positivos : -0.0015333333 |Sombra: 0.0\n",
            "Req_Anuncios_RCN_Positivos : -142.85649 |Sombra: 0.0\n"
          ]
        }
      ],
      "source": [
        "print(\"Análisis de Holgura\")\n",
        "for name, c in list(prob.constraints.items()):\n",
        "    print(name, ':', c.slack, \"|Sombra:\", c.pi)"
      ]
    },
    {
      "cell_type": "code",
      "source": [
        "pulp.pulpTestAll()"
      ],
      "metadata": {
        "colab": {
          "base_uri": "https://localhost:8080/"
        },
        "id": "ehY55zl8xQmP",
        "outputId": "5d4187e3-66ea-4680-a0b1-d70e0f683c0d"
      },
      "execution_count": 194,
      "outputs": [
        {
          "output_type": "stream",
          "name": "stderr",
          "text": [
            "ssssssssssssssssssssssssssssssssssssssssssssssssssssssssssssssssssssssssssssssssssssssssssssssssssssssssssssssssssssssssssssssssssssssssssssssssssssssssssssssssssssssssssssssssssssssssssssssssssssssssssssssssssssssssssssssssssssssssssssssssssssssssssssssssssssssssssssssssssssssssssssssssssssssssssssssssssssssssssssssssssssssssssssssssssssssssssssssssssssssssssssssssssssssssssssssssssssssssssssssssssssssssssssssssssssssssssssssssssssssssssssssssssssssssssssssssssssssssssssssssssssssssssssssssssssssssssssssssssssssssssssssssssssssssssssssssssssssssssssssss........"
          ]
        },
        {
          "output_type": "stream",
          "name": "stdout",
          "text": [
            "\t Test that logic put in place for deprecation handling of indexs works\n",
            "\t Testing 'indexs' param continues to work for LpVariable.dicts\n",
            "\t Testing 'indexs' param continues to work for LpVariable.matrix\n",
            "\t Testing 'indices' argument works in LpVariable.dicts\n",
            "\t Testing 'indices' param continues to work for LpVariable.matrix\n",
            "\t Testing invalid status\n",
            "\t Testing continuous LP solution - export dict\n",
            "\t Testing export dict for LP\n",
            "\t Testing export dict MIP\n",
            "\t Testing maximize continuous LP solution\n",
            "\t Testing continuous LP solution - export JSON\n"
          ]
        },
        {
          "output_type": "stream",
          "name": "stderr",
          "text": [
            "........."
          ]
        },
        {
          "output_type": "stream",
          "name": "stdout",
          "text": [
            "\t Testing continuous LP solution - export solver dict\n",
            "\t Testing continuous LP solution - export solver JSON\n",
            "\t Testing reading MPS files - binary variable, no constraint names\n",
            "\t Testing reading MPS files - integer variable\n",
            "\t Testing reading MPS files - maximize\n",
            "\t Testing invalid var names\n",
            "\t Testing logPath argument\n"
          ]
        },
        {
          "output_type": "stream",
          "name": "stderr",
          "text": [
            "..."
          ]
        },
        {
          "output_type": "stream",
          "name": "stdout",
          "text": [
            "\t Testing makeDict general behavior\n",
            "\t Testing makeDict default value behavior\n",
            "\t Testing measuring optimization time\n"
          ]
        },
        {
          "output_type": "stream",
          "name": "stderr",
          "text": [
            "............."
          ]
        },
        {
          "output_type": "stream",
          "name": "stdout",
          "text": [
            "\t Testing the availability of the function pulpTestAll\n",
            "\t Testing zero subtraction\n",
            "\t Testing inconsistent lp solution\n",
            "\t Testing continuous LP solution\n",
            "\t Testing maximize continuous LP solution\n",
            "\t Testing unbounded continuous LP solution\n",
            "\t Testing Long Names\n",
            "\t Testing repeated Names\n",
            "\t Testing zero constraint\n",
            "\t Testing zero objective\n",
            "\t Testing LpVariable (not LpAffineExpression) objective\n",
            "\t Testing Long lines in LP\n",
            "\t Testing LpAffineExpression divide\n"
          ]
        },
        {
          "output_type": "stream",
          "name": "stderr",
          "text": [
            ".........."
          ]
        },
        {
          "output_type": "stream",
          "name": "stdout",
          "text": [
            "\t Testing MIP solution\n",
            "\t Testing MIP solution with floats in objective\n",
            "\t Testing Initial value in MIP solution\n",
            "\t Testing fixing value in MIP solution\n",
            "\t Testing MIP relaxation\n",
            "\t Testing feasibility problem (no objective)\n",
            "\t Testing an infeasible problem\n",
            "\t Testing an integer infeasible problem\n",
            "\t Testing another integer infeasible problem\n",
            "\t Testing column based modelling\n"
          ]
        },
        {
          "output_type": "stream",
          "name": "stderr",
          "text": [
            ".............ssssss"
          ]
        },
        {
          "output_type": "stream",
          "name": "stdout",
          "text": [
            "\t Testing dual variables and slacks reporting\n",
            "\t Testing fractional constraints\n",
            "\t Testing elastic constraints (no change)\n",
            "\t Testing elastic constraints (freebound)\n",
            "\t Testing elastic constraints (penalty unchanged)\n",
            "\t Testing elastic constraints (penalty unbounded)\n",
            "\t Testing timeLimit argument\n"
          ]
        },
        {
          "output_type": "stream",
          "name": "stderr",
          "text": [
            "ssssssssssssssssssssssssssssssssssssssssssssssssssssssssssssssssssssssssssssssssssssssssssssssssssssssssssssssssssssssssssssssssssssssssssssssssssssssssssssssssssssssssssssssssssssssssssssssssssssssssssssssssssssssssss\n",
            "----------------------------------------------------------------------\n",
            "Ran 840 tests in 17.439s\n",
            "\n",
            "OK (skipped=784)\n"
          ]
        }
      ]
    },
    {
      "cell_type": "markdown",
      "source": [
        "## **Conclusiones**\n",
        "\n",
        "La solución hallada es óptima esta consiste en emitir 26 anuncios por el primer canal Caracol y 20,33\n",
        "anuncios por el canal RCN."
      ],
      "metadata": {
        "id": "UXWmYl5ttVub"
      }
    },
    {
      "cell_type": "markdown",
      "source": [
        "# **Referencias**\n",
        "\n",
        "Heath, M. T. (2018). Scientific Computing: An Introductory Survey, Revised Second Edition. Society for Industrial and Applied Mathematics.\n",
        "\n",
        "Chong, E. K., & Zak, S. H. (2004). An introduction to optimization. John Wiley & Sons.\n",
        "\n",
        "https://economipedia.com/definiciones/programacion-lineal.html\n",
        "\n",
        "https://www.superprof.es/apuntes/escolar/matematicas/algebralineal/pl/ejercicios-y-problemas-resueltos-de-programacion-lineal.html"
      ],
      "metadata": {
        "id": "0pOiua9D35MB"
      }
    }
  ]
}