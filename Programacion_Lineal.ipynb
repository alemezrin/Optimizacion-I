{
  "nbformat": 4,
  "nbformat_minor": 0,
  "metadata": {
    "colab": {
      "name": "Programacion Lineal.ipynb",
      "provenance": [],
      "collapsed_sections": [],
      "authorship_tag": "ABX9TyOsj9w9p8EDBWw90arbjTma",
      "include_colab_link": true
    },
    "kernelspec": {
      "name": "python3",
      "display_name": "Python 3"
    },
    "language_info": {
      "name": "python"
    }
  },
  "cells": [
    {
      "cell_type": "markdown",
      "metadata": {
        "id": "view-in-github",
        "colab_type": "text"
      },
      "source": [
        "<a href=\"https://colab.research.google.com/github/alemezrin/Optimizacion-I/blob/main/Programacion_Lineal.ipynb\" target=\"_parent\"><img src=\"https://colab.research.google.com/assets/colab-badge.svg\" alt=\"Open In Colab\"/></a>"
      ]
    },
    {
      "cell_type": "markdown",
      "source": [
        "# **Programación Lineal**\n",
        "\n",
        "La programación lineal es un método mediante el cual se optimiza, ya sea maximizando o minimizando, una función objetivo, donde las variables están elevadas a la potencia 1, es entonces, un proceso por el cual se maximizará una función lineal. Esto, tomando en cuenta distintas restricciones dadas.\n",
        "\n",
        "<BR>\n",
        "\n",
        "Los principales elementos de la programación lineal son los siguientes:\n",
        "\n",
        "<br>\n",
        "\n",
        "> 1.   **Función objetivo:** Es aquella función que se optimiza, ya sea maximizando o minimizando su resultado.<br><br>\n",
        "2.   **Restricciones:** Son aquellas condiciones que deben cumplirse al optimizar la función objetivo. Puede tratarse de ecuaciones o inecuaciones algebraicas.\n",
        "\n",
        "<br>\n",
        "\n",
        "Para analizar este metodo utilizaremos el siguiente Problema con su funcion objetivo y sus restricciones."
      ],
      "metadata": {
        "id": "QssVMKYeV216"
      }
    },
    {
      "cell_type": "markdown",
      "source": [
        "## **Problema**\n",
        "\n",
        "Una empresa en Cali está estudiando llevar a cabo una campaña publicitaria para un candidato politico, para ello dispone de 5.000.000 millones de pesos. Puede difundir sus anuncios en dos canales publicitarios caracol y RCN, Caracol cobra 15.000 pesos cada vez que emite un anuncio, mientras que RCN cobra 30.000 pesos. La probabilidad de que un anuncio del primer canal sea visto es del 30 %, del segundo es del 70 %, del tercero es del 15 %, del cuarto es del 17 %, el quinto es del 10 %. Como mínimo deben emitirse 26 anuncios en el primer canal, 13 en el segundo, 5 en el tercero, 6 en el cuarto y 7 en el quinto. La empresa solicita determinar el número de anuncios que debe lanzar en cada canal de manera que maximice la probabilidad de que se vea el anuncio de la empresa, teniendo en cuenta la restricción presupuestaria y las del número de anuncios."
      ],
      "metadata": {
        "id": "CP_aabmeBo7H"
      }
    },
    {
      "cell_type": "markdown",
      "source": [
        "## **Solución**\n"
      ],
      "metadata": {
        "id": "Upk--RNiZU-J"
      }
    },
    {
      "cell_type": "markdown",
      "source": [
        "### ***Varables de decisión***\n",
        "\n",
        "$x_1$: Número de anuncios a emitir en el canal Caracol.\n",
        "\n",
        "$x_2$: Número de anuncios a emitir en el canal RCN.\n",
        "\n",
        "$x_3$: Número de anuncios a emitir en el canal 1.\n",
        "\n",
        "$x_4$: Número de anuncios a emitir en el canal 2.\n",
        "\n",
        "$x_5$: Número de anuncios a emitir en el canal 13.\n",
        "\n"
      ],
      "metadata": {
        "id": "LPJGvFRbW_0Z"
      }
    },
    {
      "cell_type": "markdown",
      "source": [
        "### ***Función Objetivo***\n",
        "\n",
        "Minimizar el costo total de los anuncios por canal.\n",
        "\n",
        "<br>\n",
        "\n",
        " $$ z={\\max}\\left\\lbrace 0.22x_1+0.32x_2+0.15x_3+0.17x_4+0.10x_5\\right\\rbrace $$"
      ],
      "metadata": {
        "id": "6kigtRGUcIJb"
      }
    },
    {
      "cell_type": "markdown",
      "source": [
        "### ***Restricciones***\n",
        "\n",
        ">**1.   Restriccion de presupuesto:**\n",
        "<br><br>\n",
        "$$15000x_1+30000x_2+20000x_3+10000x_4+5000x_5 \\le 5000000$$\n",
        "<br>\n",
        "**2.   Restricción del número de anuncios mínimo en Caracol:**\n",
        "<br><br>\n",
        "$$x_1 \\geq 23$$\n",
        "<br>\n",
        "**3.   Restricción del número de anuncios mínimo en RCN:**\n",
        "<br><br>\n",
        "$$x_2 \\geq 13$$\n",
        "<br>\n",
        "**4.   Restricción del número de anuncios mínimo en 1:**\n",
        "<br><br>\n",
        "$$x_3 \\geq 5$$\n",
        "<br>\n",
        "**5.   Restricción del número de anuncios mínimo en 2:**\n",
        "<br><br>\n",
        "$$x_4 \\geq 6$$\n",
        "<br>\n",
        "**6.   Restricción del número de anuncios mínimo en 13:**\n",
        "<br><br>\n",
        "$$x_5 \\geq 7$$\n",
        "<br>\n",
        "**7.   Restricción de no negatividad de las variables:**\n",
        "<br><br>\n",
        "$$x_1 \\geq 0$$\n",
        "$$x_2 \\geq 0$$\n",
        "$$x_3 \\geq 0$$\n",
        "$$x_4 \\geq 0$$\n",
        "$$x_5 \\geq 0$$\n",
        "<br>"
      ],
      "metadata": {
        "id": "8s6rryrkePIM"
      }
    },
    {
      "cell_type": "code",
      "source": [
        "# Instalo PuLP\n",
        "!pip install PuLP"
      ],
      "metadata": {
        "colab": {
          "base_uri": "https://localhost:8080/"
        },
        "id": "_XHPWNuXZShh",
        "outputId": "b296feb1-f5aa-4931-8ea6-a5aaf42df43b"
      },
      "execution_count": 1112,
      "outputs": [
        {
          "output_type": "stream",
          "name": "stdout",
          "text": [
            "Requirement already satisfied: PuLP in /usr/local/lib/python3.7/dist-packages (2.6.0)\n"
          ]
        }
      ]
    },
    {
      "cell_type": "code",
      "source": [
        "# Importo paquetes\n",
        "import pulp\n",
        "import numpy as np\n",
        "import matplotlib.pyplot as plt\n",
        "from scipy import optimize"
      ],
      "metadata": {
        "id": "auqbxNaraCsM"
      },
      "execution_count": 1113,
      "outputs": []
    },
    {
      "cell_type": "code",
      "source": [
        "# Almaceno problema\n",
        "prob = pulp.LpProblem(\"Problema_de_Anuncios_Publicitarios\", pulp.LpMaximize)\n",
        "\n",
        "prob"
      ],
      "metadata": {
        "colab": {
          "base_uri": "https://localhost:8080/"
        },
        "id": "9JRoVptlabsy",
        "outputId": "12518ba0-82e5-47b5-b646-aea2a27d7840"
      },
      "execution_count": 1114,
      "outputs": [
        {
          "output_type": "execute_result",
          "data": {
            "text/plain": [
              "Problema_de_Anuncios_Publicitarios:\n",
              "MAXIMIZE\n",
              "None\n",
              "VARIABLES"
            ]
          },
          "metadata": {},
          "execution_count": 1114
        }
      ]
    },
    {
      "cell_type": "code",
      "source": [
        "# Almaceno Numero de anuncios de cada canal\n",
        "x1=pulp.LpVariable(\"Numero_de_Anuncios_de_Caracol\", 0)\n",
        "x2=pulp.LpVariable(\"Numero_de_Anuncios_de_RCN\", 0)\n",
        "x3=pulp.LpVariable(\"Numero_de_Anuncios_de_1\", 0)\n",
        "x4=pulp.LpVariable(\"Numero_de_Anuncios_de_2\", 0)\n",
        "x5=pulp.LpVariable(\"Numero_de_Anuncios_de_13\", 0)\n",
        "\n",
        "# Ingreso la función objetivo al problema prob:=\"Problema de Anuncios publicitarios\"\n",
        "prob += 0.22*x1 + 0.32*x2 + 0.15*x3 + 0.17*x4 + 0.10*x5 , \"Anuncios totales\"\n"
      ],
      "metadata": {
        "id": "ajtjtENrV9aH"
      },
      "execution_count": 1115,
      "outputs": []
    },
    {
      "cell_type": "code",
      "source": [
        "# Ingreso la restricción de presupuesto total a prob\n",
        "prob += 15000*x1 + 30000*x2 + 20000*x3 + 10000*x4 + 5000*x5 <= 5000000, \"Req_Presupuesto\"\n",
        "\n",
        "# Ingreso la restricción del número de anuncios en cada canal a prob\n",
        "prob += x1 >=23, \"Req_Anuncios_Caracol\"\n",
        "prob += x2 >= 13, \"Req_Anuncios_RCN\"\n",
        "prob += x3 >= 5, \"Req_Anuncios_1\"\n",
        "prob += x4 >= 6, \"Req_Anuncios_2\"\n",
        "prob += x5 >= 7, \"Req_Anuncios_13\"\n",
        "\n",
        "# Ingreso la restricción de no negatividad de las variables a prob\n",
        "prob += x1 >= 0, \"Req_Anuncios_Caracol_Positivos\"\n",
        "prob += x2 >= 0, \"Req_Anuncios_RCN_Positivos\"\n",
        "prob += x3 >= 0, \"Req_Anuncios_1_Positivos\"\n",
        "prob += x4 >= 0, \"Req_Anuncios_2_Positivos\"\n",
        "prob += x5 >= 0, \"Req_Anuncios_13_Positivos\"\n",
        "\n",
        "prob"
      ],
      "metadata": {
        "colab": {
          "base_uri": "https://localhost:8080/"
        },
        "id": "u8C7qYjjdP-d",
        "outputId": "751b0252-3e7d-4e29-b6de-461ab75b69b7"
      },
      "execution_count": 1116,
      "outputs": [
        {
          "output_type": "execute_result",
          "data": {
            "text/plain": [
              "Problema_de_Anuncios_Publicitarios:\n",
              "MAXIMIZE\n",
              "0.15*Numero_de_Anuncios_de_1 + 0.1*Numero_de_Anuncios_de_13 + 0.17*Numero_de_Anuncios_de_2 + 0.22*Numero_de_Anuncios_de_Caracol + 0.32*Numero_de_Anuncios_de_RCN + 0.0\n",
              "SUBJECT TO\n",
              "Req_Presupuesto: 20000 Numero_de_Anuncios_de_1 + 5000 Numero_de_Anuncios_de_13\n",
              " + 10000 Numero_de_Anuncios_de_2 + 15000 Numero_de_Anuncios_de_Caracol\n",
              " + 30000 Numero_de_Anuncios_de_RCN <= 5000000\n",
              "\n",
              "Req_Anuncios_Caracol: Numero_de_Anuncios_de_Caracol >= 23\n",
              "\n",
              "Req_Anuncios_RCN: Numero_de_Anuncios_de_RCN >= 13\n",
              "\n",
              "Req_Anuncios_1: Numero_de_Anuncios_de_1 >= 5\n",
              "\n",
              "Req_Anuncios_2: Numero_de_Anuncios_de_2 >= 6\n",
              "\n",
              "Req_Anuncios_13: Numero_de_Anuncios_de_13 >= 7\n",
              "\n",
              "Req_Anuncios_Caracol_Positivos: Numero_de_Anuncios_de_Caracol >= 0\n",
              "\n",
              "Req_Anuncios_RCN_Positivos: Numero_de_Anuncios_de_RCN >= 0\n",
              "\n",
              "Req_Anuncios_1_Positivos: Numero_de_Anuncios_de_1 >= 0\n",
              "\n",
              "Req_Anuncios_2_Positivos: Numero_de_Anuncios_de_2 >= 0\n",
              "\n",
              "Req_Anuncios_13_Positivos: Numero_de_Anuncios_de_13 >= 0\n",
              "\n",
              "VARIABLES\n",
              "Numero_de_Anuncios_de_1 Continuous\n",
              "Numero_de_Anuncios_de_13 Continuous\n",
              "Numero_de_Anuncios_de_2 Continuous\n",
              "Numero_de_Anuncios_de_Caracol Continuous\n",
              "Numero_de_Anuncios_de_RCN Continuous"
            ]
          },
          "metadata": {},
          "execution_count": 1116
        }
      ]
    },
    {
      "cell_type": "markdown",
      "source": [
        "### ***Escribimos el Archivo .lp***\n",
        "\n",
        "Generamos el archivo .lp asociado a nuestro modelo de programación lineal"
      ],
      "metadata": {
        "id": "ZlUDPkhjquQW"
      }
    },
    {
      "cell_type": "code",
      "source": [
        "prob.writeLP(\"Modelo_Anuncios.lp\")"
      ],
      "metadata": {
        "colab": {
          "base_uri": "https://localhost:8080/"
        },
        "id": "jlPpsrq4oZCz",
        "outputId": "13610673-4d90-499a-9a76-5b63817fe8d0"
      },
      "execution_count": 1117,
      "outputs": [
        {
          "output_type": "execute_result",
          "data": {
            "text/plain": [
              "[Numero_de_Anuncios_de_1,\n",
              " Numero_de_Anuncios_de_13,\n",
              " Numero_de_Anuncios_de_2,\n",
              " Numero_de_Anuncios_de_Caracol,\n",
              " Numero_de_Anuncios_de_RCN]"
            ]
          },
          "metadata": {},
          "execution_count": 1117
        }
      ]
    },
    {
      "cell_type": "markdown",
      "source": [
        "### ***Solucion del PL***\n",
        "\n",
        "Solución de forma estandar"
      ],
      "metadata": {
        "id": "3QicP5tWrJIr"
      }
    },
    {
      "cell_type": "code",
      "source": [
        "prob.solve()"
      ],
      "metadata": {
        "colab": {
          "base_uri": "https://localhost:8080/"
        },
        "id": "ca0o695irjWj",
        "outputId": "cecc0bed-1588-4061-d9f4-0d6f4fc81205"
      },
      "execution_count": 1118,
      "outputs": [
        {
          "output_type": "execute_result",
          "data": {
            "text/plain": [
              "1"
            ]
          },
          "metadata": {},
          "execution_count": 1118
        }
      ]
    },
    {
      "cell_type": "code",
      "source": [
        "pulp.value(prob.objective)  #sirve para ver el valor que tomó la función objetivo en el optimo"
      ],
      "metadata": {
        "colab": {
          "base_uri": "https://localhost:8080/"
        },
        "id": "NitHkqyQrsmZ",
        "outputId": "6354d597-56eb-45cd-e20c-ddb0aa525733"
      },
      "execution_count": 1119,
      "outputs": [
        {
          "output_type": "execute_result",
          "data": {
            "text/plain": [
              "93.09"
            ]
          },
          "metadata": {},
          "execution_count": 1119
        }
      ]
    },
    {
      "cell_type": "code",
      "source": [
        "pulp.LpStatus[prob.status] #Sirve para saber el estado del problema"
      ],
      "metadata": {
        "colab": {
          "base_uri": "https://localhost:8080/",
          "height": 35
        },
        "id": "eUCJe6u1rytj",
        "outputId": "ca51f458-9642-4f74-cb23-119e6b88b7c5"
      },
      "execution_count": 1120,
      "outputs": [
        {
          "output_type": "execute_result",
          "data": {
            "text/plain": [
              "'Optimal'"
            ],
            "application/vnd.google.colaboratory.intrinsic+json": {
              "type": "string"
            }
          },
          "metadata": {},
          "execution_count": 1120
        }
      ]
    },
    {
      "cell_type": "code",
      "source": [
        "print ('==========================================================')\n",
        "print ('||               **SOLUCIÓN DEL PROBLEMA**              ||')\n",
        "print ('==========================================================')\n",
        "print(\"||  El estaus final de la solución es:\", pulp.LpStatus[prob.status],'         ||')\n",
        "print(\"||  El valor de la función objetivo es:\", pulp.value(prob.objective),'    ||')\n",
        "print ('==========================================================')\n",
        "print(\"||                 Reporte de variables                 ||\")\n",
        "print ('==========================================================')\n",
        "print('|| ',x1, \"=\" , pulp.value(x1), '                    ||')\n",
        "print('|| ',x2, \"=\" , pulp.value(x2), '                    ||')\n",
        "print('|| ',x3, \"=\" , pulp.value(x3), '                    ||')\n",
        "print('|| ',x4, \"=\" , pulp.value(x4), '                    ||')\n",
        "print('|| ',x5, \"=\" , pulp.value(x5), '                    ||')\n",
        "print ('==========================================================')"
      ],
      "metadata": {
        "colab": {
          "base_uri": "https://localhost:8080/"
        },
        "id": "0aOmb-Uwr4sH",
        "outputId": "5043bcdd-7bcb-4f56-f6d1-2fc260738288"
      },
      "execution_count": 1121,
      "outputs": [
        {
          "output_type": "stream",
          "name": "stdout",
          "text": [
            "==========================================================\n",
            "||               **SOLUCIÓN DEL PROBLEMA**              ||\n",
            "==========================================================\n",
            "||  El estaus final de la solución es: Optimal          ||\n",
            "||  El valor de la función objetivo es: 93.09     ||\n",
            "==========================================================\n",
            "||                 Reporte de variables                 ||\n",
            "==========================================================\n",
            "||  Numero_de_Anuncios_de_Caracol = 23.0                     ||\n",
            "||  Numero_de_Anuncios_de_RCN = 13.0                     ||\n",
            "||  Numero_de_Anuncios_de_1 = 5.0                     ||\n",
            "||  Numero_de_Anuncios_de_2 = 6.0                     ||\n",
            "||  Numero_de_Anuncios_de_13 = 821.0                     ||\n",
            "==========================================================\n"
          ]
        }
      ]
    },
    {
      "cell_type": "markdown",
      "source": [
        "### ***Análisis de Holgura***"
      ],
      "metadata": {
        "id": "k-ZS7lryw10v"
      }
    },
    {
      "cell_type": "code",
      "execution_count": 1122,
      "metadata": {
        "id": "Ost6x2uUfd3Q",
        "outputId": "ee207432-3fdb-49cc-ecf4-be03268641cd",
        "colab": {
          "base_uri": "https://localhost:8080/"
        }
      },
      "outputs": [
        {
          "output_type": "stream",
          "name": "stdout",
          "text": [
            "Análisis de Holgura\n",
            "Req_Presupuesto : -0.0 |Sombra: 2e-05\n",
            "Req_Anuncios_Caracol : -0.0 |Sombra: -0.08\n",
            "Req_Anuncios_RCN : -0.0 |Sombra: -0.28\n",
            "Req_Anuncios_1 : -0.0 |Sombra: -0.25\n",
            "Req_Anuncios_2 : -0.0 |Sombra: -0.03\n",
            "Req_Anuncios_13 : -814.0 |Sombra: -0.0\n",
            "Req_Anuncios_Caracol_Positivos : -23.0 |Sombra: -0.0\n",
            "Req_Anuncios_RCN_Positivos : -13.0 |Sombra: -0.0\n",
            "Req_Anuncios_1_Positivos : -5.0 |Sombra: -0.0\n",
            "Req_Anuncios_2_Positivos : -6.0 |Sombra: -0.0\n",
            "Req_Anuncios_13_Positivos : -821.0 |Sombra: -0.0\n"
          ]
        }
      ],
      "source": [
        "print(\"Análisis de Holgura\")\n",
        "for name, c in list(prob.constraints.items()):\n",
        "    print(name, ':', c.slack, \"|Sombra:\", c.pi)"
      ]
    },
    {
      "cell_type": "markdown",
      "source": [
        "## **Conclusiones**\n",
        "\n",
        "La solución hallada es óptima, vemos que este proyecto es un exito ya que tiene datos confiables, vemos que el precio sombra de las variables al cambiarlo no tiene impacto en el valor optimo del problema."
      ],
      "metadata": {
        "id": "UXWmYl5ttVub"
      }
    },
    {
      "cell_type": "markdown",
      "source": [
        "# **Referencias**\n",
        "\n",
        "Heath, M. T. (2018). Scientific Computing: An Introductory Survey, Revised Second Edition. Society for Industrial and Applied Mathematics.\n",
        "\n",
        "Chong, E. K., & Zak, S. H. (2004). An introduction to optimization. John Wiley & Sons.\n",
        "\n",
        "https://economipedia.com/definiciones/programacion-lineal.html\n",
        "\n",
        "https://www.superprof.es/apuntes/escolar/matematicas/algebralineal/pl/ejercicios-y-problemas-resueltos-de-programacion-lineal.html"
      ],
      "metadata": {
        "id": "0pOiua9D35MB"
      }
    }
  ]
}