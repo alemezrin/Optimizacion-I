{
  "nbformat": 4,
  "nbformat_minor": 0,
  "metadata": {
    "colab": {
      "name": "Programacion Lineal.ipynb",
      "provenance": [],
      "collapsed_sections": [],
      "toc_visible": true,
      "authorship_tag": "ABX9TyPZbj9ViltzZer5IkPWZipr",
      "include_colab_link": true
    },
    "kernelspec": {
      "name": "python3",
      "display_name": "Python 3"
    },
    "language_info": {
      "name": "python"
    }
  },
  "cells": [
    {
      "cell_type": "markdown",
      "metadata": {
        "id": "view-in-github",
        "colab_type": "text"
      },
      "source": [
        "<a href=\"https://colab.research.google.com/github/alemezrin/Optimizacion-I/blob/main/Programacion_Lineal.ipynb\" target=\"_parent\"><img src=\"https://colab.research.google.com/assets/colab-badge.svg\" alt=\"Open In Colab\"/></a>"
      ]
    },
    {
      "cell_type": "markdown",
      "source": [
        "# **Programación Lineal**\n",
        "\n",
        "La programación lineal es un método mediante el cual se optimiza, ya sea maximizando o minimizando, una función objetivo, donde las variables están elevadas a la potencia 1, es entonces, un proceso por el cual se maximizará una función lineal. Esto, tomando en cuenta distintas restricciones dadas.\n",
        "\n",
        "<BR>\n",
        "\n",
        "Los principales elementos de la programación lineal son los siguientes:\n",
        "\n",
        "<br>\n",
        "\n",
        "> 1.   **Función objetivo:** Es aquella función que se optimiza, ya sea maximizando o minimizando su resultado.<br><br>\n",
        "2.   **Restricciones:** Son aquellas condiciones que deben cumplirse al optimizar la función objetivo. Puede tratarse de ecuaciones o inecuaciones algebraicas.\n",
        "\n",
        "<br>\n",
        "\n",
        "Para analizar este metodo utilizaremos el siguiente Problema con su funcion objetivo y sus restricciones."
      ],
      "metadata": {
        "id": "QssVMKYeV216"
      }
    },
    {
      "cell_type": "markdown",
      "source": [
        "## **Problema**\n",
        "\n",
        "Una empresa en Cali está estudiando llevar a cabo una campaña publicitaria para un candidato politico, para ello dispone de 1.000.000 millones de pesos. Puede difundir sus anuncios en dos canales publicitarios caracol y RCN, Caracol cobra 15.000 pesos cada vez que emite un anuncio, mientras que RCN cobra 30.000 pesos. La probabilidad de que un anuncio del primer canal sea visto es del 30 %, mientras que del segundo es del 70 %. Como mínimo deben emitirse 26 anuncios en el primer canal y 13 en el segundo. La empresa solicita determinar el número de anuncios que debe lanzar en cada canal de manera que maximice la probabilidad de que se vea el anuncio de la empresa, teniendo en cuenta la restricción\n",
        "presupuestaria y las del número de anuncios."
      ],
      "metadata": {
        "id": "CP_aabmeBo7H"
      }
    },
    {
      "cell_type": "markdown",
      "source": [
        "## **Solución**\n"
      ],
      "metadata": {
        "id": "Upk--RNiZU-J"
      }
    },
    {
      "cell_type": "markdown",
      "source": [
        "### ***Varables de decisión***\n",
        "\n",
        "$x_1$: Número de anuncios a emitir en el canal Caracol.\n",
        "\n",
        "$x_2$: Número de anuncios a emitir en el canal RCN."
      ],
      "metadata": {
        "id": "LPJGvFRbW_0Z"
      }
    },
    {
      "cell_type": "markdown",
      "source": [
        "### ***Función Objetivo***\n",
        "\n",
        "Minimizar el costo total de los anuncios por canal.\n",
        "\n",
        "<br>\n",
        "\n",
        " $$ z=min\\left\\lbrace 15000x_1+30000x_2\\right\\rbrace $$"
      ],
      "metadata": {
        "id": "6kigtRGUcIJb"
      }
    },
    {
      "cell_type": "markdown",
      "source": [
        "### ***Restricciones***\n",
        "\n",
        "\n",
        ">**1.   Restriccion de porcentajes:**\n",
        "<br><br>\n",
        " $$ Max\\left\\lbrace 0.3x_1+0.7x_2\\right\\rbrace $$\n",
        " $$x_1+x_2=100$$\n",
        "<br>\n",
        "**2.   Restriccion de presupuesto:**\n",
        "<br><br>\n",
        "$$15000x_1+30000x_2 \\le 1000000$$\n",
        "<br>\n",
        "**3.   Restricción del número de anuncios mínimo en Caracol:**\n",
        "<br><br>\n",
        "$$x_1 \\geq 23$$\n",
        "<br>\n",
        "**4.   Restricción del número de anuncios mínimo en RCN:**\n",
        "<br><br>\n",
        "$$x_2 \\geq 13$$\n",
        "<br>\n",
        "**5.   Restricción de no negatividad de las variables:**\n",
        "<br><br>\n",
        "$$x_1 \\geq 0$$\n",
        "$$x_2 \\geq 0$$\n",
        "<br>\n"
      ],
      "metadata": {
        "id": "8s6rryrkePIM"
      }
    },
    {
      "cell_type": "code",
      "source": [
        "# Instalo PuLP\n",
        "!pip install PuLP"
      ],
      "metadata": {
        "colab": {
          "base_uri": "https://localhost:8080/"
        },
        "id": "_XHPWNuXZShh",
        "outputId": "e580ee55-6268-46bf-d85f-65ba4a5c393a"
      },
      "execution_count": 344,
      "outputs": [
        {
          "output_type": "stream",
          "name": "stdout",
          "text": [
            "Requirement already satisfied: PuLP in /usr/local/lib/python3.7/dist-packages (2.6.0)\n"
          ]
        }
      ]
    },
    {
      "cell_type": "code",
      "source": [
        "# Importo paquetes\n",
        "import pulp\n",
        "import numpy as np\n",
        "import matplotlib.pyplot as plt\n",
        "from scipy import optimize"
      ],
      "metadata": {
        "id": "auqbxNaraCsM"
      },
      "execution_count": 345,
      "outputs": []
    },
    {
      "cell_type": "code",
      "source": [
        "# Almaceno problema\n",
        "prob = pulp.LpProblem(\"Problema_de_Anuncios_Publicitarios\", pulp.LpMaximize)\n",
        "\n",
        "prob"
      ],
      "metadata": {
        "colab": {
          "base_uri": "https://localhost:8080/"
        },
        "id": "9JRoVptlabsy",
        "outputId": "e636e3c8-f78b-411f-e353-049e4a0be1f5"
      },
      "execution_count": 346,
      "outputs": [
        {
          "output_type": "execute_result",
          "data": {
            "text/plain": [
              "Problema_de_Anuncios_Publicitarios:\n",
              "MAXIMIZE\n",
              "None\n",
              "VARIABLES"
            ]
          },
          "metadata": {},
          "execution_count": 346
        }
      ]
    },
    {
      "cell_type": "code",
      "source": [
        "# Almaceno Numero de anuncios de cada canal\n",
        "x1=pulp.LpVariable(\"Numero_de_Anuncios_de_Caracol\", 0)\n",
        "x2=pulp.LpVariable(\"Numero_de_Anuncios_de_RCN\", 0)\n",
        "\n",
        "# Ingreso la función objetivo al problema prob:=\"Problema de Anuncios publicitarios\"\n",
        "prob += 15000*x1+30000*x2 , \"Costo total de Anuncios por canal\""
      ],
      "metadata": {
        "id": "ajtjtENrV9aH"
      },
      "execution_count": 347,
      "outputs": []
    },
    {
      "cell_type": "code",
      "source": [
        "# Ingreso la restricción presupuestaria a prob\n",
        "prob += 15000*x1+30000*x2<=1000000 , \"Req_Presupuesto\"\n",
        "\n",
        "# Ingreso la restricción del número de anuncios mínimo en Caracol a prob\n",
        "prob += x1 >= 23, \"Req_Anuncios_Caracol\"\n",
        "\n",
        "# Ingreso la restricción del número de anuncios mínimo en RCN a prob\n",
        "prob += x2 >= 13, \"Req_Anuncios_RCN\"\n",
        "\n",
        "# Ingreso la restricción de no negatividad de las variables a prob\n",
        "prob += x1>= 0, \"Req_Anuncios_Caracol_Positivos\"\n",
        "prob += x2>= 0, \"Req_Anuncios_RCN_Positivos\"\n",
        "\n",
        "prob"
      ],
      "metadata": {
        "colab": {
          "base_uri": "https://localhost:8080/"
        },
        "id": "u8C7qYjjdP-d",
        "outputId": "4a9b3f63-9da8-4e1a-f046-25e2ac2880d7"
      },
      "execution_count": 348,
      "outputs": [
        {
          "output_type": "execute_result",
          "data": {
            "text/plain": [
              "Problema_de_Anuncios_Publicitarios:\n",
              "MAXIMIZE\n",
              "15000*Numero_de_Anuncios_de_Caracol + 30000*Numero_de_Anuncios_de_RCN + 0\n",
              "SUBJECT TO\n",
              "Req_Presupuesto: 15000 Numero_de_Anuncios_de_Caracol\n",
              " + 30000 Numero_de_Anuncios_de_RCN <= 1000000\n",
              "\n",
              "Req_Anuncios_Caracol: Numero_de_Anuncios_de_Caracol >= 23\n",
              "\n",
              "Req_Anuncios_RCN: Numero_de_Anuncios_de_RCN >= 13\n",
              "\n",
              "Req_Anuncios_Caracol_Positivos: Numero_de_Anuncios_de_Caracol >= 0\n",
              "\n",
              "Req_Anuncios_RCN_Positivos: Numero_de_Anuncios_de_RCN >= 0\n",
              "\n",
              "VARIABLES\n",
              "Numero_de_Anuncios_de_Caracol Continuous\n",
              "Numero_de_Anuncios_de_RCN Continuous"
            ]
          },
          "metadata": {},
          "execution_count": 348
        }
      ]
    },
    {
      "cell_type": "markdown",
      "source": [
        "### ***Escribimos el Archivo .lp***\n",
        "\n",
        "Generamos el archivo .lp asociado a nuestro modelo de programación lineal"
      ],
      "metadata": {
        "id": "ZlUDPkhjquQW"
      }
    },
    {
      "cell_type": "code",
      "source": [
        "prob.writeLP(\"Modelo_Anuncios.lp\")"
      ],
      "metadata": {
        "colab": {
          "base_uri": "https://localhost:8080/"
        },
        "id": "jlPpsrq4oZCz",
        "outputId": "b1cac77e-66c5-4471-fe3b-276278b90b9a"
      },
      "execution_count": 349,
      "outputs": [
        {
          "output_type": "execute_result",
          "data": {
            "text/plain": [
              "[Numero_de_Anuncios_de_Caracol, Numero_de_Anuncios_de_RCN]"
            ]
          },
          "metadata": {},
          "execution_count": 349
        }
      ]
    },
    {
      "cell_type": "markdown",
      "source": [
        "### ***Solucion del PL***\n",
        "\n",
        "Solución de forma estandar"
      ],
      "metadata": {
        "id": "3QicP5tWrJIr"
      }
    },
    {
      "cell_type": "code",
      "source": [
        "prob.solve()"
      ],
      "metadata": {
        "colab": {
          "base_uri": "https://localhost:8080/"
        },
        "id": "ca0o695irjWj",
        "outputId": "7530efd9-0294-4c13-9e6f-cb8f21c5bc53"
      },
      "execution_count": 350,
      "outputs": [
        {
          "output_type": "execute_result",
          "data": {
            "text/plain": [
              "1"
            ]
          },
          "metadata": {},
          "execution_count": 350
        }
      ]
    },
    {
      "cell_type": "code",
      "source": [
        "pulp.value(prob.objective)  #sirve para ver el valor que tomó la función objetivo en el optimo"
      ],
      "metadata": {
        "colab": {
          "base_uri": "https://localhost:8080/"
        },
        "id": "NitHkqyQrsmZ",
        "outputId": "8dafacaa-e8cf-401a-87e2-87d249a8e7c8"
      },
      "execution_count": 351,
      "outputs": [
        {
          "output_type": "execute_result",
          "data": {
            "text/plain": [
              "999999.99"
            ]
          },
          "metadata": {},
          "execution_count": 351
        }
      ]
    },
    {
      "cell_type": "code",
      "source": [
        "pulp.LpStatus[prob.status] #Sirve para saber el estado del problema"
      ],
      "metadata": {
        "colab": {
          "base_uri": "https://localhost:8080/",
          "height": 36
        },
        "id": "eUCJe6u1rytj",
        "outputId": "f0a7b27e-802f-44fd-a1d1-0e9a39cea628"
      },
      "execution_count": 352,
      "outputs": [
        {
          "output_type": "execute_result",
          "data": {
            "text/plain": [
              "'Optimal'"
            ],
            "application/vnd.google.colaboratory.intrinsic+json": {
              "type": "string"
            }
          },
          "metadata": {},
          "execution_count": 352
        }
      ]
    },
    {
      "cell_type": "code",
      "source": [
        "print ('==========================================================')\n",
        "print ('||               **SOLUCIÓN DEL PROBLEMA**              ||')\n",
        "print ('==========================================================')\n",
        "print(\"||  El estaus final de la solución es:\", pulp.LpStatus[prob.status],'         ||')\n",
        "print(\"||  El valor de la función objetivo es:\", pulp.value(prob.objective),'    ||')\n",
        "print ('==========================================================')\n",
        "print(\"||                 Reporte de variables                 ||\")\n",
        "print ('==========================================================')\n",
        "print('|| ',x1, \"=\" , pulp.value(x1), '                    ||')\n",
        "print('|| ',x2, \"=\" , pulp.value(x2), '                    ||')\n",
        "print ('==========================================================')"
      ],
      "metadata": {
        "colab": {
          "base_uri": "https://localhost:8080/"
        },
        "id": "0aOmb-Uwr4sH",
        "outputId": "f7a864b3-4bfe-44e6-dc02-fa2d1f0c9233"
      },
      "execution_count": 353,
      "outputs": [
        {
          "output_type": "stream",
          "name": "stdout",
          "text": [
            "==========================================================\n",
            "||               **SOLUCIÓN DEL PROBLEMA**              ||\n",
            "==========================================================\n",
            "||  El estaus final de la solución es: Optimal          ||\n",
            "||  El valor de la función objetivo es: 999999.99     ||\n",
            "==========================================================\n",
            "||                 Reporte de variables                 ||\n",
            "==========================================================\n",
            "||  Numero_de_Anuncios_de_Caracol = 23.0                     ||\n",
            "||  Numero_de_Anuncios_de_RCN = 21.833333                     ||\n",
            "==========================================================\n"
          ]
        }
      ]
    },
    {
      "cell_type": "markdown",
      "source": [
        "### ***Análisis de Holgura***"
      ],
      "metadata": {
        "id": "k-ZS7lryw10v"
      }
    },
    {
      "cell_type": "code",
      "execution_count": 354,
      "metadata": {
        "id": "Ost6x2uUfd3Q",
        "outputId": "13718779-f20b-4d44-adc7-ba4f7dd95c4a",
        "colab": {
          "base_uri": "https://localhost:8080/"
        }
      },
      "outputs": [
        {
          "output_type": "stream",
          "name": "stdout",
          "text": [
            "Análisis de Holgura\n",
            "Req_Presupuesto : -0.0 |Sombra: 1.0\n",
            "Req_Anuncios_Caracol : -0.0 |Sombra: -0.0\n",
            "Req_Anuncios_RCN : -8.833333 |Sombra: -0.0\n",
            "Req_Anuncios_Caracol_Positivos : -23.0 |Sombra: -0.0\n",
            "Req_Anuncios_RCN_Positivos : -21.833333 |Sombra: -0.0\n"
          ]
        }
      ],
      "source": [
        "print(\"Análisis de Holgura\")\n",
        "for name, c in list(prob.constraints.items()):\n",
        "    print(name, ':', c.slack, \"|Sombra:\", c.pi)"
      ]
    },
    {
      "cell_type": "markdown",
      "source": [
        "## **Conclusiones**\n",
        "\n",
        "La solución hallada es óptima esta consiste en emitir 23 anuncios por el primer canal Caracol y 21,833333 anuncios por el canal RCN."
      ],
      "metadata": {
        "id": "UXWmYl5ttVub"
      }
    },
    {
      "cell_type": "markdown",
      "source": [
        "# **Referencias**\n",
        "\n",
        "Heath, M. T. (2018). Scientific Computing: An Introductory Survey, Revised Second Edition. Society for Industrial and Applied Mathematics.\n",
        "\n",
        "Chong, E. K., & Zak, S. H. (2004). An introduction to optimization. John Wiley & Sons.\n",
        "\n",
        "https://economipedia.com/definiciones/programacion-lineal.html\n",
        "\n",
        "https://www.superprof.es/apuntes/escolar/matematicas/algebralineal/pl/ejercicios-y-problemas-resueltos-de-programacion-lineal.html"
      ],
      "metadata": {
        "id": "0pOiua9D35MB"
      }
    }
  ]
}