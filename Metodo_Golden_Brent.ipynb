{
  "nbformat": 4,
  "nbformat_minor": 0,
  "metadata": {
    "colab": {
      "name": "Metodo_Golden-Brent.ipynb",
      "provenance": [],
      "collapsed_sections": [],
      "toc_visible": true,
      "authorship_tag": "ABX9TyOG8PminfH+Og3QqSqls3dV",
      "include_colab_link": true
    },
    "kernelspec": {
      "name": "python3",
      "display_name": "Python 3"
    },
    "language_info": {
      "name": "python"
    }
  },
  "cells": [
    {
      "cell_type": "markdown",
      "metadata": {
        "id": "view-in-github",
        "colab_type": "text"
      },
      "source": [
        "<a href=\"https://colab.research.google.com/github/alemezrin/Optimizacion-I/blob/main/Metodo_Golden_Brent.ipynb\" target=\"_parent\"><img src=\"https://colab.research.google.com/assets/colab-badge.svg\" alt=\"Open In Colab\"/></a>"
      ]
    },
    {
      "cell_type": "markdown",
      "metadata": {
        "id": "StRHC_mxhWlH"
      },
      "source": [
        "# **Metodo de la Seccion Dorada Resumen**\n",
        "La búsqueda (o método) de la sección dorada es una técnica para hallar el extremo (mínimo o máximo) de una función unimodal, mediante reducciones sucesivas del rango de valores en el cual se encuentra el extremo.\n",
        "\n",
        "$\\tau = \\frac{1+ \\sqrt{5}}{2} $\n",
        "\n",
        "$x_1= \\tau a + (1- \\tau b) $"
      ]
    },
    {
      "cell_type": "markdown",
      "metadata": {
        "id": "vLgEb3YbVhch"
      },
      "source": [
        "# **Metodo de Brent Resumen**\n",
        "Richard Brent vislumbró una rutina que combinaba la confiabilidad del método de bisección con la velocidad del método de la secante, y añadió otro método que puede ser más rápido. La idea es que se comienza con un cambio de signo en el intervalo, del cual no se sale. Entonces se tiene tres alternativas para realizar el siguiente paso:\n",
        "\n",
        "*   El paso de bisección (lento);\n",
        "*   El paso de la secante (mediano);\n",
        "*   El paso \"cuadrático inverso\" (rápido);\n",
        "\n",
        "Si la iteración resulta bastante bien, se toma el paso rápido. En el caso de que se esté en el paso de la secante o cuadrático inverso y no mejora, se toma el paso de bisección. Como se ve, este método bien complicado para codificar. Este tipo de programa aplica el concepto de adaptatividad, lo que significa que se \"adapta y ajusta según la experiencia previa\" del problema."
      ]
    },
    {
      "cell_type": "markdown",
      "metadata": {
        "id": "lnbj47LchOjO"
      },
      "source": [
        "# **Funcion Unimodal 1**#\n",
        "$f(x)=(x-x_0)^2 + e^{(-5(x - 0.5 - x_0)^2)}$, $\\forall x \\in [0.5,6]$\n",
        "\n",
        "\n"
      ]
    },
    {
      "cell_type": "code",
      "metadata": {
        "id": "08RLDg9jhrLN",
        "colab": {
          "base_uri": "https://localhost:8080/",
          "height": 282
        },
        "outputId": "358e2226-fc7c-4e82-a230-8685281552ee"
      },
      "source": [
        "import numpy as np\n",
        "import matplotlib.pyplot as plt\n",
        "from scipy import optimize\n",
        "import pandas as pd\n",
        "from tabulate import tabulate\n",
        "\n",
        "def f(x):\n",
        "    return ((x-x0)**2 + np.exp(-5*(x - 0.5 - x0)**2))\n",
        "\n",
        "x = np.linspace(0.5, 6, 100)\n",
        "x0 = np.exp(-1)\n",
        "\n",
        "plt.plot(x, f(x))"
      ],
      "execution_count": 67,
      "outputs": [
        {
          "output_type": "execute_result",
          "data": {
            "text/plain": [
              "[<matplotlib.lines.Line2D at 0x7ff33ea8f110>]"
            ]
          },
          "metadata": {},
          "execution_count": 67
        },
        {
          "output_type": "display_data",
          "data": {
            "image/png": "[encoded data removed]",
            "text/plain": [
              "<Figure size 432x288 with 1 Axes>"
            ]
          },
          "metadata": {
            "needs_background": "light"
          }
        }
      ]
    },
    {
      "cell_type": "markdown",
      "metadata": {
        "id": "RWw-oym1Dhgw"
      },
      "source": [
        "## Metodo Golden"
      ]
    },
    {
      "cell_type": "markdown",
      "metadata": {
        "id": "lnpKF4xU4M_q"
      },
      "source": [
        "### Resultado"
      ]
    },
    {
      "cell_type": "code",
      "metadata": {
        "colab": {
          "base_uri": "https://localhost:8080/"
        },
        "id": "7AEOGySvgVZE",
        "outputId": "348a36f9-91f0-4b9c-e1ff-f9d1542ea1f7"
      },
      "source": [
        "resultado1= optimize.minimize_scalar(f, (0.5,6), method='golden')\n",
        "resultado1"
      ],
      "execution_count": 4,
      "outputs": [
        {
          "output_type": "execute_result",
          "data": {
            "text/plain": [
              "     fun: 0.12229946413411437\n",
              "    nfev: 51\n",
              "     nit: 46\n",
              " success: True\n",
              "       x: 0.12812913516268393"
            ]
          },
          "metadata": {},
          "execution_count": 4
        }
      ]
    },
    {
      "cell_type": "markdown",
      "metadata": {
        "id": "j1isL_p04TRk"
      },
      "source": [
        "### Resultado por Iteracion"
      ]
    },
    {
      "cell_type": "code",
      "metadata": {
        "colab": {
          "base_uri": "https://localhost:8080/"
        },
        "id": "fHZvPKBHdC0J",
        "outputId": "528560e0-8d2c-476f-e3c5-f1af5e2a44fa"
      },
      "source": [
        "iter=39\n",
        "res1= optimize.minimize_scalar(f, (0.5,6), method='golden', tol=10**(-6),options={\"maxiter\": iter})\n",
        "\n",
        "res1\n"
      ],
      "execution_count": 8,
      "outputs": [
        {
          "output_type": "execute_result",
          "data": {
            "text/plain": [
              "     fun: 0.12229946413411627\n",
              "    nfev: 43\n",
              "     nit: 38\n",
              " success: True\n",
              "       x: 0.12812910194614183"
            ]
          },
          "metadata": {},
          "execution_count": 8
        }
      ]
    },
    {
      "cell_type": "markdown",
      "metadata": {
        "id": "GAnqOE3QY-B8"
      },
      "source": [
        "### Tabla Iteracion vs Aproximacion"
      ]
    },
    {
      "cell_type": "code",
      "metadata": {
        "id": "0-OTdJKa7ZUZ"
      },
      "source": [
        "res1.success=False\n",
        "iter=1\n",
        "xRes1=[]\n",
        "while res1.success == False:\n",
        "  res1= optimize.minimize_scalar(f, (0.5,6), method='golden', tol=10**(-6),options={\"maxiter\": iter})\n",
        "  xRes1.append(res1.x)\n",
        "  iter+=1"
      ],
      "execution_count": 9,
      "outputs": []
    },
    {
      "cell_type": "code",
      "metadata": {
        "colab": {
          "base_uri": "https://localhost:8080/"
        },
        "id": "Gk18XGzRUmS4",
        "outputId": "92c2fb5b-908a-4979-d819-84374dd0aff7"
      },
      "source": [
        "aproxRes1={'Iter': list(range(1, len(xRes1)+1)) , 'aproxRes1': xRes1}\n",
        "print(tabulate(aproxRes1, tablefmt='fancy_grid', headers=[\"Iteracion\", \"Aproximacion\"]))"
      ],
      "execution_count": 26,
      "outputs": [
        {
          "output_type": "stream",
          "name": "stdout",
          "text": [
            "╒═════════════╤════════════════╕\n",
            "│   Iteracion │   Aproximacion │\n",
            "╞═════════════╪════════════════╡\n",
            "│           1 │     0.5        │\n",
            "├─────────────┼────────────────┤\n",
            "│           2 │     0.5        │\n",
            "├─────────────┼────────────────┤\n",
            "│           3 │     0.5        │\n",
            "├─────────────┼────────────────┤\n",
            "│           4 │     0.00406531 │\n",
            "├─────────────┼────────────────┤\n",
            "│           5 │     0.00406531 │\n",
            "├─────────────┼────────────────┤\n",
            "│           6 │     0.193496   │\n",
            "├─────────────┼────────────────┤\n",
            "│           7 │     0.193496   │\n",
            "├─────────────┼────────────────┤\n",
            "│           8 │     0.12114    │\n",
            "├─────────────┼────────────────┤\n",
            "│           9 │     0.12114    │\n",
            "├─────────────┼────────────────┤\n",
            "│          10 │     0.12114    │\n",
            "├─────────────┼────────────────┤\n",
            "│          11 │     0.12114    │\n",
            "├─────────────┼────────────────┤\n",
            "│          12 │     0.131696   │\n",
            "├─────────────┼────────────────┤\n",
            "│          13 │     0.131696   │\n",
            "├─────────────┼────────────────┤\n",
            "│          14 │     0.127664   │\n",
            "├─────────────┼────────────────┤\n",
            "│          15 │     0.127664   │\n",
            "├─────────────┼────────────────┤\n",
            "│          16 │     0.127664   │\n",
            "├─────────────┼────────────────┤\n",
            "│          17 │     0.127664   │\n",
            "├─────────────┼────────────────┤\n",
            "│          18 │     0.128252   │\n",
            "├─────────────┼────────────────┤\n",
            "│          19 │     0.128252   │\n",
            "├─────────────┼────────────────┤\n",
            "│          20 │     0.128028   │\n",
            "├─────────────┼────────────────┤\n",
            "│          21 │     0.128028   │\n",
            "├─────────────┼────────────────┤\n",
            "│          22 │     0.128113   │\n",
            "├─────────────┼────────────────┤\n",
            "│          23 │     0.128113   │\n",
            "├─────────────┼────────────────┤\n",
            "│          24 │     0.128113   │\n",
            "├─────────────┼────────────────┤\n",
            "│          25 │     0.128134   │\n",
            "├─────────────┼────────────────┤\n",
            "│          26 │     0.128134   │\n",
            "├─────────────┼────────────────┤\n",
            "│          27 │     0.128126   │\n",
            "├─────────────┼────────────────┤\n",
            "│          28 │     0.128126   │\n",
            "├─────────────┼────────────────┤\n",
            "│          29 │     0.128129   │\n",
            "├─────────────┼────────────────┤\n",
            "│          30 │     0.128129   │\n",
            "├─────────────┼────────────────┤\n",
            "│          31 │     0.128129   │\n",
            "├─────────────┼────────────────┤\n",
            "│          32 │     0.128129   │\n",
            "├─────────────┼────────────────┤\n",
            "│          33 │     0.128129   │\n",
            "├─────────────┼────────────────┤\n",
            "│          34 │     0.128129   │\n",
            "├─────────────┼────────────────┤\n",
            "│          35 │     0.128129   │\n",
            "├─────────────┼────────────────┤\n",
            "│          36 │     0.128129   │\n",
            "├─────────────┼────────────────┤\n",
            "│          37 │     0.128129   │\n",
            "├─────────────┼────────────────┤\n",
            "│          38 │     0.128129   │\n",
            "├─────────────┼────────────────┤\n",
            "│          39 │     0.128129   │\n",
            "╘═════════════╧════════════════╛\n"
          ]
        }
      ]
    },
    {
      "cell_type": "markdown",
      "metadata": {
        "id": "z2fntxO3X7Mn"
      },
      "source": [
        "### Grafica Iteracion vs Aproximacion"
      ]
    },
    {
      "cell_type": "code",
      "metadata": {
        "colab": {
          "base_uri": "https://localhost:8080/",
          "height": 282
        },
        "id": "Z_L4VyHWYEBj",
        "outputId": "accd5f48-8b52-4c1c-dd7b-633770389f31"
      },
      "source": [
        "plt.plot(xRes1)"
      ],
      "execution_count": 11,
      "outputs": [
        {
          "output_type": "execute_result",
          "data": {
            "text/plain": [
              "[<matplotlib.lines.Line2D at 0x7ff33f548c10>]"
            ]
          },
          "metadata": {},
          "execution_count": 11
        },
        {
          "output_type": "display_data",
          "data": {
            "image/png": "[encoded data removed]",
            "text/plain": [
              "<Figure size 432x288 with 1 Axes>"
            ]
          },
          "metadata": {
            "needs_background": "light"
          }
        }
      ]
    },
    {
      "cell_type": "markdown",
      "metadata": {
        "id": "L3zqwohMAsWW"
      },
      "source": [
        "### Tabla Iteracion vs Error"
      ]
    },
    {
      "cell_type": "code",
      "metadata": {
        "colab": {
          "base_uri": "https://localhost:8080/"
        },
        "id": "U9n5EJ36A_GP",
        "outputId": "b9207e35-4adc-4cf1-db7c-f34c7a0380b2"
      },
      "source": [
        "eRes1=abs(np.array(xRes1)-xRes1[-1])/abs(xRes1[-1])\n",
        "errorRes1={'Iter': list(range(1, len(xRes1)+1)) , 'errorRes1': eRes1}\n",
        "print(tabulate(errorRes1, tablefmt='fancy_grid', headers=[\"Iteracion\",\"Error\"]))"
      ],
      "execution_count": 27,
      "outputs": [
        {
          "output_type": "stream",
          "name": "stdout",
          "text": [
            "╒═════════════╤═════════════╕\n",
            "│   Iteracion │       Error │\n",
            "╞═════════════╪═════════════╡\n",
            "│           1 │ 2.90231     │\n",
            "├─────────────┼─────────────┤\n",
            "│           2 │ 2.90231     │\n",
            "├─────────────┼─────────────┤\n",
            "│           3 │ 2.90231     │\n",
            "├─────────────┼─────────────┤\n",
            "│           4 │ 0.968272    │\n",
            "├─────────────┼─────────────┤\n",
            "│           5 │ 0.968272    │\n",
            "├─────────────┼─────────────┤\n",
            "│           6 │ 0.51016     │\n",
            "├─────────────┼─────────────┤\n",
            "│           7 │ 0.51016     │\n",
            "├─────────────┼─────────────┤\n",
            "│           8 │ 0.0545504   │\n",
            "├─────────────┼─────────────┤\n",
            "│           9 │ 0.0545504   │\n",
            "├─────────────┼─────────────┤\n",
            "│          10 │ 0.0545504   │\n",
            "├─────────────┼─────────────┤\n",
            "│          11 │ 0.0545504   │\n",
            "├─────────────┼─────────────┤\n",
            "│          12 │ 0.0278398   │\n",
            "├─────────────┼─────────────┤\n",
            "│          13 │ 0.0278398   │\n",
            "├─────────────┼─────────────┤\n",
            "│          14 │ 0.00363044  │\n",
            "├─────────────┼─────────────┤\n",
            "│          15 │ 0.00363044  │\n",
            "├─────────────┼─────────────┤\n",
            "│          16 │ 0.00363044  │\n",
            "├─────────────┼─────────────┤\n",
            "│          17 │ 0.00363044  │\n",
            "├─────────────┼─────────────┤\n",
            "│          18 │ 0.000961007 │\n",
            "├─────────────┼─────────────┤\n",
            "│          19 │ 0.000961007 │\n",
            "├─────────────┼─────────────┤\n",
            "│          20 │ 0.00079277  │\n",
            "├─────────────┼─────────────┤\n",
            "│          21 │ 0.00079277  │\n",
            "├─────────────┼─────────────┤\n",
            "│          22 │ 0.000122887 │\n",
            "├─────────────┼─────────────┤\n",
            "│          23 │ 0.000122887 │\n",
            "├─────────────┼─────────────┤\n",
            "│          24 │ 0.000122887 │\n",
            "├─────────────┼─────────────┤\n",
            "│          25 │ 3.52509e-05 │\n",
            "├─────────────┼─────────────┤\n",
            "│          26 │ 3.52509e-05 │\n",
            "├─────────────┼─────────────┤\n",
            "│          27 │ 2.51524e-05 │\n",
            "├─────────────┼─────────────┤\n",
            "│          28 │ 2.51524e-05 │\n",
            "├─────────────┼─────────────┤\n",
            "│          29 │ 2.0804e-06  │\n",
            "├─────────────┼─────────────┤\n",
            "│          30 │ 2.0804e-06  │\n",
            "├─────────────┼─────────────┤\n",
            "│          31 │ 2.0804e-06  │\n",
            "├─────────────┼─────────────┤\n",
            "│          32 │ 2.0804e-06  │\n",
            "├─────────────┼─────────────┤\n",
            "│          33 │ 2.0804e-06  │\n",
            "├─────────────┼─────────────┤\n",
            "│          34 │ 0           │\n",
            "├─────────────┼─────────────┤\n",
            "│          35 │ 0           │\n",
            "├─────────────┼─────────────┤\n",
            "│          36 │ 0           │\n",
            "├─────────────┼─────────────┤\n",
            "│          37 │ 0           │\n",
            "├─────────────┼─────────────┤\n",
            "│          38 │ 0           │\n",
            "├─────────────┼─────────────┤\n",
            "│          39 │ 0           │\n",
            "╘═════════════╧═════════════╛\n"
          ]
        }
      ]
    },
    {
      "cell_type": "markdown",
      "metadata": {
        "id": "HgAFZL5qGSkg"
      },
      "source": [
        "### Grafica Iteracion vs Error"
      ]
    },
    {
      "cell_type": "code",
      "metadata": {
        "colab": {
          "base_uri": "https://localhost:8080/",
          "height": 283
        },
        "id": "LSyny2CDGiFO",
        "outputId": "52a66472-011e-47ee-eda4-80d00f63769b"
      },
      "source": [
        "plt.plot(eRes1)"
      ],
      "execution_count": 29,
      "outputs": [
        {
          "output_type": "execute_result",
          "data": {
            "text/plain": [
              "[<matplotlib.lines.Line2D at 0x7ff33f500c10>]"
            ]
          },
          "metadata": {},
          "execution_count": 29
        },
        {
          "output_type": "display_data",
          "data": {
            "image/png": "[encoded data removed]",
            "text/plain": [
              "<Figure size 432x288 with 1 Axes>"
            ]
          },
          "metadata": {
            "needs_background": "light"
          }
        }
      ]
    },
    {
      "cell_type": "markdown",
      "metadata": {
        "id": "8MxJApaqHLdo"
      },
      "source": [
        "### Grafica de Tasa de Convergencia"
      ]
    },
    {
      "cell_type": "code",
      "metadata": {
        "colab": {
          "base_uri": "https://localhost:8080/",
          "height": 337
        },
        "id": "c0_rQQXSHZVS",
        "outputId": "5a0a9443-4a02-43a5-e533-7c51e34887f4"
      },
      "source": [
        "yRes1=abs(np.array(xRes1)-xRes1[-1])\n",
        "tRes1=[]\n",
        "for i in range(len(yRes1)-1):\n",
        "  t=yRes1[i+1]/yRes1[i]\n",
        "  tRes1.append(t)\n",
        "\n",
        "pRes1=(1+np.sqrt(5))/2\n",
        "\n",
        "plt.plot(tRes1)\n",
        "plt.plot(pRes1*np.ones(len(tRes1)))"
      ],
      "execution_count": 30,
      "outputs": [
        {
          "output_type": "stream",
          "name": "stderr",
          "text": [
            "/usr/local/lib/python3.7/dist-packages/ipykernel_launcher.py:4: RuntimeWarning: invalid value encountered in double_scalars\n",
            "  after removing the cwd from sys.path.\n"
          ]
        },
        {
          "output_type": "execute_result",
          "data": {
            "text/plain": [
              "[<matplotlib.lines.Line2D at 0x7ff33f223210>]"
            ]
          },
          "metadata": {},
          "execution_count": 30
        },
        {
          "output_type": "display_data",
          "data": {
            "image/png": "[encoded data removed]",
            "text/plain": [
              "<Figure size 432x288 with 1 Axes>"
            ]
          },
          "metadata": {
            "needs_background": "light"
          }
        }
      ]
    },
    {
      "cell_type": "markdown",
      "metadata": {
        "id": "p1OBp86-Efzd"
      },
      "source": [
        "## Metodo de Brent"
      ]
    },
    {
      "cell_type": "markdown",
      "metadata": {
        "id": "a_MHRApsJjj3"
      },
      "source": [
        "### Resultado"
      ]
    },
    {
      "cell_type": "code",
      "metadata": {
        "colab": {
          "base_uri": "https://localhost:8080/"
        },
        "id": "tt7LuWpkg0w7",
        "outputId": "c1efe039-ce72-490c-ec8b-06ab30c46c0f"
      },
      "source": [
        "resultado2= optimize.minimize_scalar(f, (0.5,6), method='brent')\n",
        "resultado2"
      ],
      "execution_count": 31,
      "outputs": [
        {
          "output_type": "execute_result",
          "data": {
            "text/plain": [
              "     fun: 0.12229946413411436\n",
              "    nfev: 18\n",
              "     nit: 14\n",
              " success: True\n",
              "       x: 0.12812913205795382"
            ]
          },
          "metadata": {},
          "execution_count": 31
        }
      ]
    },
    {
      "cell_type": "markdown",
      "metadata": {
        "id": "a7pdsTSEJw1R"
      },
      "source": [
        "### Resultado por Iteracion"
      ]
    },
    {
      "cell_type": "code",
      "metadata": {
        "colab": {
          "base_uri": "https://localhost:8080/"
        },
        "id": "bNYruVyhfG6X",
        "outputId": "85d16cc9-d3d4-438b-b005-7f78d422f53d"
      },
      "source": [
        "iter=14\n",
        "res2= optimize.minimize_scalar(f, (0.5,6), method='brent', tol=10**(-6),options={\"maxiter\": iter})\n",
        "\n",
        "res2"
      ],
      "execution_count": 32,
      "outputs": [
        {
          "output_type": "execute_result",
          "data": {
            "text/plain": [
              "     fun: 0.12229946413411447\n",
              "    nfev: 17\n",
              "     nit: 13\n",
              " success: True\n",
              "       x: 0.1281291366092816"
            ]
          },
          "metadata": {},
          "execution_count": 32
        }
      ]
    },
    {
      "cell_type": "markdown",
      "metadata": {
        "id": "zWIxhzfFJ6OT"
      },
      "source": [
        "### Tabla Iteracion vs Aproximacion"
      ]
    },
    {
      "cell_type": "code",
      "metadata": {
        "colab": {
          "base_uri": "https://localhost:8080/"
        },
        "id": "Mkvh_2Rw8LrB",
        "outputId": "34a2684c-e067-4c6c-8d43-7fc93a8e8842"
      },
      "source": [
        "res2.success=False\n",
        "iter=1\n",
        "xRes2=[]\n",
        "while res2.success == False:\n",
        "  res2= optimize.minimize_scalar(f, (0.5,6), method='brent', tol=10**(-6),options={\"maxiter\": iter})\n",
        "  xRes2.append(res2.x)\n",
        "  iter+=1\n",
        "\n",
        "aproxRes2={'Iter': list(range(1, len(xRes2)+1)) , 'aproxRes2': xRes2}\n",
        "print(tabulate(aproxRes2, tablefmt='fancy_grid', headers=[\"Iteracion\", \"Aproximacion\"]))"
      ],
      "execution_count": 69,
      "outputs": [
        {
          "output_type": "stream",
          "name": "stdout",
          "text": [
            "╒═════════════╤════════════════╕\n",
            "│   Iteracion │   Aproximacion │\n",
            "╞═════════════╪════════════════╡\n",
            "│           1 │     0.5        │\n",
            "├─────────────┼────────────────┤\n",
            "│           2 │     0.5        │\n",
            "├─────────────┼────────────────┤\n",
            "│           3 │     0.407505   │\n",
            "├─────────────┼────────────────┤\n",
            "│           4 │     0.407505   │\n",
            "├─────────────┼────────────────┤\n",
            "│           5 │    -0.00621123 │\n",
            "├─────────────┼────────────────┤\n",
            "│           6 │     0.123148   │\n",
            "├─────────────┼────────────────┤\n",
            "│           7 │     0.123148   │\n",
            "├─────────────┼────────────────┤\n",
            "│           8 │     0.129174   │\n",
            "├─────────────┼────────────────┤\n",
            "│           9 │     0.128147   │\n",
            "├─────────────┼────────────────┤\n",
            "│          10 │     0.128127   │\n",
            "├─────────────┼────────────────┤\n",
            "│          11 │     0.128129   │\n",
            "├─────────────┼────────────────┤\n",
            "│          12 │     0.128129   │\n",
            "├─────────────┼────────────────┤\n",
            "│          13 │     0.128129   │\n",
            "├─────────────┼────────────────┤\n",
            "│          14 │     0.128129   │\n",
            "╘═════════════╧════════════════╛\n"
          ]
        }
      ]
    },
    {
      "cell_type": "markdown",
      "metadata": {
        "id": "rnZ3OcvmKeMf"
      },
      "source": [
        "### Grafica Iteracion vs Aproximacion"
      ]
    },
    {
      "cell_type": "code",
      "metadata": {
        "colab": {
          "base_uri": "https://localhost:8080/",
          "height": 282
        },
        "id": "W_InJBztKx7-",
        "outputId": "687ffac1-a21a-4053-cf13-804989ffd9c4"
      },
      "source": [
        "plt.plot(xRes2)"
      ],
      "execution_count": 35,
      "outputs": [
        {
          "output_type": "execute_result",
          "data": {
            "text/plain": [
              "[<matplotlib.lines.Line2D at 0x7ff33f10a610>]"
            ]
          },
          "metadata": {},
          "execution_count": 35
        },
        {
          "output_type": "display_data",
          "data": {
            "image/png": "[encoded data removed]",
            "text/plain": [
              "<Figure size 432x288 with 1 Axes>"
            ]
          },
          "metadata": {
            "needs_background": "light"
          }
        }
      ]
    },
    {
      "cell_type": "markdown",
      "metadata": {
        "id": "xmkFa4b4L-Eu"
      },
      "source": [
        "### Tabla Iteracion vs Error"
      ]
    },
    {
      "cell_type": "code",
      "metadata": {
        "colab": {
          "base_uri": "https://localhost:8080/"
        },
        "id": "tbAOr3dsL_dk",
        "outputId": "342e1951-a5e1-41c8-fe6e-2ff1adf89177"
      },
      "source": [
        "eRes2=abs(np.array(xRes2)-xRes2[-1])/abs(xRes2[-1])\n",
        "errorRes2={'Iter': list(range(1, len(xRes2)+1)) , 'errorRes2': eRes2}\n",
        "print(tabulate(errorRes2, tablefmt='fancy_grid', headers=[\"Iteracion\",\"Error\"]))"
      ],
      "execution_count": 38,
      "outputs": [
        {
          "output_type": "stream",
          "name": "stdout",
          "text": [
            "╒═════════════╤═════════════╕\n",
            "│   Iteracion │       Error │\n",
            "╞═════════════╪═════════════╡\n",
            "│           1 │ 2.90231     │\n",
            "├─────────────┼─────────────┤\n",
            "│           2 │ 2.90231     │\n",
            "├─────────────┼─────────────┤\n",
            "│           3 │ 2.18042     │\n",
            "├─────────────┼─────────────┤\n",
            "│           4 │ 2.18042     │\n",
            "├─────────────┼─────────────┤\n",
            "│           5 │ 1.04848     │\n",
            "├─────────────┼─────────────┤\n",
            "│           6 │ 0.0388762   │\n",
            "├─────────────┼─────────────┤\n",
            "│           7 │ 0.0388762   │\n",
            "├─────────────┼─────────────┤\n",
            "│           8 │ 0.0081544   │\n",
            "├─────────────┼─────────────┤\n",
            "│           9 │ 0.000136321 │\n",
            "├─────────────┼─────────────┤\n",
            "│          10 │ 1.66997e-05 │\n",
            "├─────────────┼─────────────┤\n",
            "│          11 │ 0           │\n",
            "├─────────────┼─────────────┤\n",
            "│          12 │ 0           │\n",
            "├─────────────┼─────────────┤\n",
            "│          13 │ 0           │\n",
            "├─────────────┼─────────────┤\n",
            "│          14 │ 0           │\n",
            "╘═════════════╧═════════════╛\n"
          ]
        }
      ]
    },
    {
      "cell_type": "markdown",
      "metadata": {
        "id": "b_QMXcXdMZhB"
      },
      "source": [
        "### Grafica Iteracion vs Error"
      ]
    },
    {
      "cell_type": "code",
      "metadata": {
        "colab": {
          "base_uri": "https://localhost:8080/",
          "height": 283
        },
        "id": "09Fw6ER4Ma-l",
        "outputId": "1274fd26-64a6-445c-a875-7ea5fb8b490b"
      },
      "source": [
        "plt.plot(eRes2)"
      ],
      "execution_count": 39,
      "outputs": [
        {
          "output_type": "execute_result",
          "data": {
            "text/plain": [
              "[<matplotlib.lines.Line2D at 0x7ff33f065dd0>]"
            ]
          },
          "metadata": {},
          "execution_count": 39
        },
        {
          "output_type": "display_data",
          "data": {
            "image/png": "[encoded data removed]",
            "text/plain": [
              "<Figure size 432x288 with 1 Axes>"
            ]
          },
          "metadata": {
            "needs_background": "light"
          }
        }
      ]
    },
    {
      "cell_type": "markdown",
      "metadata": {
        "id": "dAN9GWHuMj-l"
      },
      "source": [
        "### Grafica de Tasa de Convergencia"
      ]
    },
    {
      "cell_type": "code",
      "metadata": {
        "colab": {
          "base_uri": "https://localhost:8080/",
          "height": 337
        },
        "id": "F7ETEKneMozi",
        "outputId": "4b0f220a-362a-4626-c48e-7e8dfc1c6202"
      },
      "source": [
        "yRes2=abs(np.array(xRes2)-xRes2[-1])\n",
        "tRes2=[]\n",
        "for i in range(len(yRes2)-1):\n",
        "  t=yRes2[i+1]/yRes2[i]\n",
        "  tRes2.append(t)\n",
        "\n",
        "pRes2=(1+np.sqrt(5))/2\n",
        "\n",
        "plt.plot(tRes2)\n",
        "plt.plot(pRes2*np.ones(len(tRes2)))"
      ],
      "execution_count": 40,
      "outputs": [
        {
          "output_type": "stream",
          "name": "stderr",
          "text": [
            "/usr/local/lib/python3.7/dist-packages/ipykernel_launcher.py:4: RuntimeWarning: invalid value encountered in double_scalars\n",
            "  after removing the cwd from sys.path.\n"
          ]
        },
        {
          "output_type": "execute_result",
          "data": {
            "text/plain": [
              "[<matplotlib.lines.Line2D at 0x7ff33efdfc50>]"
            ]
          },
          "metadata": {},
          "execution_count": 40
        },
        {
          "output_type": "display_data",
          "data": {
            "image/png": "[encoded data removed]",
            "text/plain": [
              "<Figure size 432x288 with 1 Axes>"
            ]
          },
          "metadata": {
            "needs_background": "light"
          }
        }
      ]
    },
    {
      "cell_type": "markdown",
      "metadata": {
        "id": "WcSLkNeoiIg_"
      },
      "source": [
        "# Funcion Unimodal 2 #\n",
        "\n",
        "$g(x)=0.5 - xe^{-x^2}$, $\\forall x \\in [0,2]$\n"
      ]
    },
    {
      "cell_type": "code",
      "metadata": {
        "id": "UvrbiK4uknSf",
        "colab": {
          "base_uri": "https://localhost:8080/",
          "height": 282
        },
        "outputId": "60a9091d-c1e3-40f8-f1ac-8f8f83e5b8e8"
      },
      "source": [
        "import numpy as np\n",
        "import matplotlib.pyplot as plt\n",
        "from scipy import optimize\n",
        "import pandas as pd\n",
        "from tabulate import tabulate\n",
        "\n",
        "\n",
        "def g(x):\n",
        "    return (0.5-(x*np.exp(-(x*x))))\n",
        "\n",
        "x = np.linspace(0, 2, 45)\n",
        "\n",
        "plt.plot(x, g(x))\n"
      ],
      "execution_count": 44,
      "outputs": [
        {
          "output_type": "execute_result",
          "data": {
            "text/plain": [
              "[<matplotlib.lines.Line2D at 0x7ff33ef45ed0>]"
            ]
          },
          "metadata": {},
          "execution_count": 44
        },
        {
          "output_type": "display_data",
          "data": {
            "image/png": "[encoded data removed]",
            "text/plain": [
              "<Figure size 432x288 with 1 Axes>"
            ]
          },
          "metadata": {
            "needs_background": "light"
          }
        }
      ]
    },
    {
      "cell_type": "markdown",
      "metadata": {
        "id": "Ufw9sgM1M-NK"
      },
      "source": [
        "## Metodo Golden"
      ]
    },
    {
      "cell_type": "markdown",
      "metadata": {
        "id": "0h_fa6I2NAEI"
      },
      "source": [
        "### Resultado"
      ]
    },
    {
      "cell_type": "code",
      "metadata": {
        "colab": {
          "base_uri": "https://localhost:8080/"
        },
        "id": "XZ-BtV6mhHrC",
        "outputId": "be78db8b-e110-48a2-d689-a59c907c579b"
      },
      "source": [
        "solucion1= optimize.minimize_scalar(g, (0,2), method='golden')\n",
        "solucion1"
      ],
      "execution_count": 45,
      "outputs": [
        {
          "output_type": "execute_result",
          "data": {
            "text/plain": [
              "     fun: 0.07111805751964662\n",
              "    nfev: 46\n",
              "     nit: 41\n",
              " success: True\n",
              "       x: 0.7071067793458041"
            ]
          },
          "metadata": {},
          "execution_count": 45
        }
      ]
    },
    {
      "cell_type": "markdown",
      "metadata": {
        "id": "xUy2HRnW2Emt"
      },
      "source": [
        "### Resultado por Iteracion"
      ]
    },
    {
      "cell_type": "code",
      "metadata": {
        "colab": {
          "base_uri": "https://localhost:8080/"
        },
        "id": "Kji0GO_J2rZE",
        "outputId": "4b273951-8b3b-4335-e9a8-2f372aeecebc"
      },
      "source": [
        "iter=33\n",
        "sol1= optimize.minimize_scalar(g, (0,2), method='golden', tol=10**(-6),options={\"maxiter\": iter})\n",
        "\n",
        "sol1"
      ],
      "execution_count": 47,
      "outputs": [
        {
          "output_type": "execute_result",
          "data": {
            "text/plain": [
              "     fun: 0.07111805751965111\n",
              "    nfev: 37\n",
              "     nit: 32\n",
              " success: True\n",
              "       x: 0.7071068533944787"
            ]
          },
          "metadata": {},
          "execution_count": 47
        }
      ]
    },
    {
      "cell_type": "markdown",
      "metadata": {
        "id": "AL2eK3sqN0Vp"
      },
      "source": [
        "### Tabla Iteracion vs Aproximacion"
      ]
    },
    {
      "cell_type": "code",
      "metadata": {
        "colab": {
          "base_uri": "https://localhost:8080/"
        },
        "id": "1n2HlDnhLm1v",
        "outputId": "8b8e393a-5e94-416d-e884-519377a204e8"
      },
      "source": [
        "sol1.success=False\n",
        "iter=1\n",
        "xSol1=[]\n",
        "while sol1.success == False:\n",
        "  sol1= optimize.minimize_scalar(g, (0,2), method='golden', tol=10**(-6),options={\"maxiter\": iter})\n",
        "  xSol1.append(sol1.x)\n",
        "  iter+=1\n",
        "\n",
        "aproxSol1={'Iter': list(range(1, len(xSol1)+1)) , 'aproxRes1': xSol1}\n",
        "print(tabulate(aproxSol1, tablefmt='fancy_grid', headers=[\"Iteracion\", \"Aproximacion\"]))\n"
      ],
      "execution_count": 61,
      "outputs": [
        {
          "output_type": "stream",
          "name": "stdout",
          "text": [
            "╒═════════════╤════════════════╕\n",
            "│   Iteracion │   Aproximacion │\n",
            "╞═════════════╪════════════════╡\n",
            "│           1 │       1.23607  │\n",
            "├─────────────┼────────────────┤\n",
            "│           2 │       0.763932 │\n",
            "├─────────────┼────────────────┤\n",
            "│           3 │       0.763932 │\n",
            "├─────────────┼────────────────┤\n",
            "│           4 │       0.763932 │\n",
            "├─────────────┼────────────────┤\n",
            "│           5 │       0.652476 │\n",
            "├─────────────┼────────────────┤\n",
            "│           6 │       0.652476 │\n",
            "├─────────────┼────────────────┤\n",
            "│           7 │       0.695048 │\n",
            "├─────────────┼────────────────┤\n",
            "│           8 │       0.695048 │\n",
            "├─────────────┼────────────────┤\n",
            "│           9 │       0.695048 │\n",
            "├─────────────┼────────────────┤\n",
            "│          10 │       0.705098 │\n",
            "├─────────────┼────────────────┤\n",
            "│          11 │       0.705098 │\n",
            "├─────────────┼────────────────┤\n",
            "│          12 │       0.705098 │\n",
            "├─────────────┼────────────────┤\n",
            "│          13 │       0.707471 │\n",
            "├─────────────┼────────────────┤\n",
            "│          14 │       0.707471 │\n",
            "├─────────────┼────────────────┤\n",
            "│          15 │       0.707471 │\n",
            "├─────────────┼────────────────┤\n",
            "│          16 │       0.707471 │\n",
            "├─────────────┼────────────────┤\n",
            "│          17 │       0.707125 │\n",
            "├─────────────┼────────────────┤\n",
            "│          18 │       0.707125 │\n",
            "├─────────────┼────────────────┤\n",
            "│          19 │       0.707125 │\n",
            "├─────────────┼────────────────┤\n",
            "│          20 │       0.707125 │\n",
            "├─────────────┼────────────────┤\n",
            "│          21 │       0.707125 │\n",
            "├─────────────┼────────────────┤\n",
            "│          22 │       0.707093 │\n",
            "├─────────────┼────────────────┤\n",
            "│          23 │       0.707093 │\n",
            "├─────────────┼────────────────┤\n",
            "│          24 │       0.707105 │\n",
            "├─────────────┼────────────────┤\n",
            "│          25 │       0.707105 │\n",
            "├─────────────┼────────────────┤\n",
            "│          26 │       0.707105 │\n",
            "├─────────────┼────────────────┤\n",
            "│          27 │       0.707108 │\n",
            "├─────────────┼────────────────┤\n",
            "│          28 │       0.707108 │\n",
            "├─────────────┼────────────────┤\n",
            "│          29 │       0.707107 │\n",
            "├─────────────┼────────────────┤\n",
            "│          30 │       0.707107 │\n",
            "├─────────────┼────────────────┤\n",
            "│          31 │       0.707107 │\n",
            "├─────────────┼────────────────┤\n",
            "│          32 │       0.707107 │\n",
            "├─────────────┼────────────────┤\n",
            "│          33 │       0.707107 │\n",
            "╘═════════════╧════════════════╛\n"
          ]
        }
      ]
    },
    {
      "cell_type": "markdown",
      "metadata": {
        "id": "Sk4d5RrBOSWi"
      },
      "source": [
        "### Grafica Iteracion vs Aproximacion"
      ]
    },
    {
      "cell_type": "code",
      "metadata": {
        "colab": {
          "base_uri": "https://localhost:8080/",
          "height": 282
        },
        "id": "cZcVx8blOUqa",
        "outputId": "2c1c01aa-8ac1-4e2f-c820-dc68888c59be"
      },
      "source": [
        "plt.plot(xSol1)"
      ],
      "execution_count": 62,
      "outputs": [
        {
          "output_type": "execute_result",
          "data": {
            "text/plain": [
              "[<matplotlib.lines.Line2D at 0x7ff33ee9a0d0>]"
            ]
          },
          "metadata": {},
          "execution_count": 62
        },
        {
          "output_type": "display_data",
          "data": {
            "image/png": "[encoded data removed]",
            "text/plain": [
              "<Figure size 432x288 with 1 Axes>"
            ]
          },
          "metadata": {
            "needs_background": "light"
          }
        }
      ]
    },
    {
      "cell_type": "markdown",
      "metadata": {
        "id": "SQTvzMwLOhGJ"
      },
      "source": [
        "### Tabla Iteracion vs Error"
      ]
    },
    {
      "cell_type": "code",
      "metadata": {
        "colab": {
          "base_uri": "https://localhost:8080/"
        },
        "id": "hhMOOfZCOiOk",
        "outputId": "9bff79e3-9487-41ba-9f1c-8400cd8c1803"
      },
      "source": [
        "eSol1=abs(np.array(xSol1)-xSol1[-1])/abs(xSol1[-1])\n",
        "errorSol1={'Iter': list(range(1, len(xSol1)+1)) , 'errorSol1': eSol1}\n",
        "print(tabulate(errorSol1, tablefmt='fancy_grid', headers=[\"Iteracion\",\"Error\"]))"
      ],
      "execution_count": 50,
      "outputs": [
        {
          "output_type": "stream",
          "name": "stdout",
          "text": [
            "╒═════════════╤═════════════╕\n",
            "│   Iteracion │       Error │\n",
            "╞═════════════╪═════════════╡\n",
            "│           1 │ 0.748064    │\n",
            "├─────────────┼─────────────┤\n",
            "│           2 │ 0.0803629   │\n",
            "├─────────────┼─────────────┤\n",
            "│           3 │ 0.0803629   │\n",
            "├─────────────┼─────────────┤\n",
            "│           4 │ 0.0803629   │\n",
            "├─────────────┼─────────────┤\n",
            "│           5 │ 0.0772599   │\n",
            "├─────────────┼─────────────┤\n",
            "│           6 │ 0.0772599   │\n",
            "├─────────────┼─────────────┤\n",
            "│           7 │ 0.0170533   │\n",
            "├─────────────┼─────────────┤\n",
            "│           8 │ 0.0170533   │\n",
            "├─────────────┼─────────────┤\n",
            "│           9 │ 0.0170533   │\n",
            "├─────────────┼─────────────┤\n",
            "│          10 │ 0.0028405   │\n",
            "├─────────────┼─────────────┤\n",
            "│          11 │ 0.0028405   │\n",
            "├─────────────┼─────────────┤\n",
            "│          12 │ 0.0028405   │\n",
            "├─────────────┼─────────────┤\n",
            "│          13 │ 0.000514695 │\n",
            "├─────────────┼─────────────┤\n",
            "│          14 │ 0.000514695 │\n",
            "├─────────────┼─────────────┤\n",
            "│          15 │ 0.000514695 │\n",
            "├─────────────┼─────────────┤\n",
            "│          16 │ 0.000514695 │\n",
            "├─────────────┼─────────────┤\n",
            "│          17 │ 2.51789e-05 │\n",
            "├─────────────┼─────────────┤\n",
            "│          18 │ 2.51789e-05 │\n",
            "├─────────────┼─────────────┤\n",
            "│          19 │ 2.51789e-05 │\n",
            "├─────────────┼─────────────┤\n",
            "│          20 │ 2.51789e-05 │\n",
            "├─────────────┼─────────────┤\n",
            "│          21 │ 2.51789e-05 │\n",
            "├─────────────┼─────────────┤\n",
            "│          22 │ 1.89608e-05 │\n",
            "├─────────────┼─────────────┤\n",
            "│          23 │ 1.89608e-05 │\n",
            "├─────────────┼─────────────┤\n",
            "│          24 │ 2.10094e-06 │\n",
            "├─────────────┼─────────────┤\n",
            "│          25 │ 2.10094e-06 │\n",
            "├─────────────┼─────────────┤\n",
            "│          26 │ 2.10094e-06 │\n",
            "├─────────────┼─────────────┤\n",
            "│          27 │ 1.87914e-06 │\n",
            "├─────────────┼─────────────┤\n",
            "│          28 │ 1.87914e-06 │\n",
            "├─────────────┼─────────────┤\n",
            "│          29 │ 3.58883e-07 │\n",
            "├─────────────┼─────────────┤\n",
            "│          30 │ 3.58883e-07 │\n",
            "├─────────────┼─────────────┤\n",
            "│          31 │ 3.58883e-07 │\n",
            "├─────────────┼─────────────┤\n",
            "│          32 │ 0           │\n",
            "├─────────────┼─────────────┤\n",
            "│          33 │ 0           │\n",
            "╘═════════════╧═════════════╛\n"
          ]
        }
      ]
    },
    {
      "cell_type": "markdown",
      "metadata": {
        "id": "kxTuqZ40OzBw"
      },
      "source": [
        "### Grafica Iteracion vs Error"
      ]
    },
    {
      "cell_type": "code",
      "metadata": {
        "colab": {
          "base_uri": "https://localhost:8080/",
          "height": 282
        },
        "id": "VQPRf1Y_O0n-",
        "outputId": "8b2bd86b-434a-40c5-872f-640e420cf150"
      },
      "source": [
        "plt.plot(eSol1)"
      ],
      "execution_count": 52,
      "outputs": [
        {
          "output_type": "execute_result",
          "data": {
            "text/plain": [
              "[<matplotlib.lines.Line2D at 0x7ff33eda62d0>]"
            ]
          },
          "metadata": {},
          "execution_count": 52
        },
        {
          "output_type": "display_data",
          "data": {
            "image/png": "[encoded data removed]",
            "text/plain": [
              "<Figure size 432x288 with 1 Axes>"
            ]
          },
          "metadata": {
            "needs_background": "light"
          }
        }
      ]
    },
    {
      "cell_type": "markdown",
      "metadata": {
        "id": "ohbAMBeCPEFf"
      },
      "source": [
        "### Grafica de Tasa de Convergencia"
      ]
    },
    {
      "cell_type": "code",
      "metadata": {
        "colab": {
          "base_uri": "https://localhost:8080/",
          "height": 337
        },
        "id": "zearA6KQPE4g",
        "outputId": "8a35e77b-c977-4be0-d6f1-f7b0a4bd3b4d"
      },
      "source": [
        "ySol1=abs(np.array(xSol1)-xSol1[-1])\n",
        "tSol1=[]\n",
        "for i in range(len(ySol1)-1):\n",
        "  t=ySol1[i+1]/ySol1[i]\n",
        "  tSol1.append(t)\n",
        "\n",
        "pSol1=(1+np.sqrt(5))/2\n",
        "\n",
        "plt.plot(tSol1)\n",
        "plt.plot(pSol1*np.ones(len(tSol1)))"
      ],
      "execution_count": 53,
      "outputs": [
        {
          "output_type": "stream",
          "name": "stderr",
          "text": [
            "/usr/local/lib/python3.7/dist-packages/ipykernel_launcher.py:4: RuntimeWarning: invalid value encountered in double_scalars\n",
            "  after removing the cwd from sys.path.\n"
          ]
        },
        {
          "output_type": "execute_result",
          "data": {
            "text/plain": [
              "[<matplotlib.lines.Line2D at 0x7ff33ed1b950>]"
            ]
          },
          "metadata": {},
          "execution_count": 53
        },
        {
          "output_type": "display_data",
          "data": {
            "image/png": "[encoded data removed]",
            "text/plain": [
              "<Figure size 432x288 with 1 Axes>"
            ]
          },
          "metadata": {
            "needs_background": "light"
          }
        }
      ]
    },
    {
      "cell_type": "markdown",
      "metadata": {
        "id": "DTVvOmLNPTyp"
      },
      "source": [
        "## Metodo de Brent"
      ]
    },
    {
      "cell_type": "markdown",
      "metadata": {
        "id": "aI3GhpKTPYOf"
      },
      "source": [
        "### Resultado"
      ]
    },
    {
      "cell_type": "code",
      "metadata": {
        "colab": {
          "base_uri": "https://localhost:8080/"
        },
        "id": "VqHsiO25hUUG",
        "outputId": "8a81221c-1b5b-40a1-eb70-2218428419dc"
      },
      "source": [
        "solucion2= optimize.minimize_scalar(g, (0,2), method='brent')\n",
        "solucion2"
      ],
      "execution_count": 54,
      "outputs": [
        {
          "output_type": "execute_result",
          "data": {
            "text/plain": [
              "     fun: 0.07111805751964662\n",
              "    nfev: 16\n",
              "     nit: 12\n",
              " success: True\n",
              "       x: 0.7071067770435648"
            ]
          },
          "metadata": {},
          "execution_count": 54
        }
      ]
    },
    {
      "cell_type": "markdown",
      "metadata": {
        "id": "BSzCgCz3PxmD"
      },
      "source": [
        "### Resultado por Iteracion"
      ]
    },
    {
      "cell_type": "code",
      "metadata": {
        "colab": {
          "base_uri": "https://localhost:8080/"
        },
        "id": "1egf9Nqd88K8",
        "outputId": "ce854cbc-fd6d-44cf-9d5b-cbb1a0069c13"
      },
      "source": [
        "iter=12\n",
        "sol2= optimize.minimize_scalar(g, (0,2), method='brent', tol=10**(-6), options={\"maxiter\": iter})\n",
        "sol2"
      ],
      "execution_count": 55,
      "outputs": [
        {
          "output_type": "execute_result",
          "data": {
            "text/plain": [
              "     fun: 0.07111805751965866\n",
              "    nfev: 15\n",
              "     nit: 11\n",
              " success: True\n",
              "       x: 0.7071066625104957"
            ]
          },
          "metadata": {},
          "execution_count": 55
        }
      ]
    },
    {
      "cell_type": "markdown",
      "metadata": {
        "id": "sxywZdEgQB06"
      },
      "source": [
        "### Tabla Iteracion vs Aproximacion"
      ]
    },
    {
      "cell_type": "code",
      "metadata": {
        "colab": {
          "base_uri": "https://localhost:8080/"
        },
        "id": "dpYYp6xvMBqg",
        "outputId": "eb8a3b4c-26e7-4d00-b6f1-5b544a422a43"
      },
      "source": [
        "sol2.success=False\n",
        "iter=1\n",
        "xSol2=[]\n",
        "while sol2.success == False:\n",
        "  sol2= optimize.minimize_scalar(g, (0,2), method='brent', tol=10**(-6),options={\"maxiter\": iter})\n",
        "  xSol2.append(sol2.x)\n",
        "  iter+=1\n",
        "\n",
        "aproxSol2={'Iter': list(range(1, len(xSol2)+1)) , 'aproxSol2': xSol2}\n",
        "print(tabulate(aproxSol2, tablefmt='fancy_grid', headers=[\"Iteracion\", \"Aproximacion\"]))"
      ],
      "execution_count": 68,
      "outputs": [
        {
          "output_type": "stream",
          "name": "stdout",
          "text": [
            "╒═════════════╤════════════════╕\n",
            "│   Iteracion │   Aproximacion │\n",
            "╞═════════════╪════════════════╡\n",
            "│           1 │       2        │\n",
            "├─────────────┼────────────────┤\n",
            "│           2 │       1.23607  │\n",
            "├─────────────┼────────────────┤\n",
            "│           3 │       0.763932 │\n",
            "├─────────────┼────────────────┤\n",
            "│           4 │       0.763932 │\n",
            "├─────────────┼────────────────┤\n",
            "│           5 │       0.744624 │\n",
            "├─────────────┼────────────────┤\n",
            "│           6 │       0.710695 │\n",
            "├─────────────┼────────────────┤\n",
            "│           7 │       0.706436 │\n",
            "├─────────────┼────────────────┤\n",
            "│           8 │       0.70708  │\n",
            "├─────────────┼────────────────┤\n",
            "│           9 │       0.707107 │\n",
            "├─────────────┼────────────────┤\n",
            "│          10 │       0.707107 │\n",
            "├─────────────┼────────────────┤\n",
            "│          11 │       0.707107 │\n",
            "├─────────────┼────────────────┤\n",
            "│          12 │       0.707107 │\n",
            "╘═════════════╧════════════════╛\n"
          ]
        }
      ]
    },
    {
      "cell_type": "markdown",
      "metadata": {
        "id": "Bvk8cFAiQfY-"
      },
      "source": [
        "### Grafica Iteracion vs Aproximacion"
      ]
    },
    {
      "cell_type": "code",
      "metadata": {
        "colab": {
          "base_uri": "https://localhost:8080/",
          "height": 282
        },
        "id": "QxgoiKx3QgoB",
        "outputId": "4d65bee6-59eb-46b9-e275-b7938d393ac4"
      },
      "source": [
        "plt.plot(xSol2)"
      ],
      "execution_count": 64,
      "outputs": [
        {
          "output_type": "execute_result",
          "data": {
            "text/plain": [
              "[<matplotlib.lines.Line2D at 0x7ff33ec3a910>]"
            ]
          },
          "metadata": {},
          "execution_count": 64
        },
        {
          "output_type": "display_data",
          "data": {
            "image/png": "[encoded data removed]",
            "text/plain": [
              "<Figure size 432x288 with 1 Axes>"
            ]
          },
          "metadata": {
            "needs_background": "light"
          }
        }
      ]
    },
    {
      "cell_type": "markdown",
      "metadata": {
        "id": "ZeKp6wZCQum_"
      },
      "source": [
        "### Tabla Iteracion vs Error"
      ]
    },
    {
      "cell_type": "code",
      "metadata": {
        "colab": {
          "base_uri": "https://localhost:8080/"
        },
        "id": "OA0K42bpQvaV",
        "outputId": "d6c885ec-872d-4bcd-ac7c-fa12a801ee62"
      },
      "source": [
        "eSol2=abs(np.array(xSol2)-xSol2[-1])/abs(xSol2[-1])\n",
        "errorSol2={'Iter': list(range(1, len(xSol2)+1)) , 'errorSol2': eSol2}\n",
        "print(tabulate(errorSol2, tablefmt='fancy_grid', headers=[\"Iteracion\",\"Error\"]))"
      ],
      "execution_count": 60,
      "outputs": [
        {
          "output_type": "stream",
          "name": "stdout",
          "text": [
            "╒═════════════╤═════════════╕\n",
            "│   Iteracion │       Error │\n",
            "╞═════════════╪═════════════╡\n",
            "│           1 │ 1.82843     │\n",
            "├─────────────┼─────────────┤\n",
            "│           2 │ 0.748064    │\n",
            "├─────────────┼─────────────┤\n",
            "│           3 │ 0.0803632   │\n",
            "├─────────────┼─────────────┤\n",
            "│           4 │ 0.0803632   │\n",
            "├─────────────┼─────────────┤\n",
            "│           5 │ 0.0530581   │\n",
            "├─────────────┼─────────────┤\n",
            "│           6 │ 0.00507454  │\n",
            "├─────────────┼─────────────┤\n",
            "│           7 │ 0.000948592 │\n",
            "├─────────────┼─────────────┤\n",
            "│           8 │ 3.77812e-05 │\n",
            "├─────────────┼─────────────┤\n",
            "│           9 │ 1.00002e-06 │\n",
            "├─────────────┼─────────────┤\n",
            "│          10 │ 0           │\n",
            "├─────────────┼─────────────┤\n",
            "│          11 │ 0           │\n",
            "├─────────────┼─────────────┤\n",
            "│          12 │ 0           │\n",
            "╘═════════════╧═════════════╛\n"
          ]
        }
      ]
    },
    {
      "cell_type": "markdown",
      "metadata": {
        "id": "vx-GJ97mSnY4"
      },
      "source": [
        "### Grafica Iteracion vs Error"
      ]
    },
    {
      "cell_type": "code",
      "metadata": {
        "colab": {
          "base_uri": "https://localhost:8080/",
          "height": 282
        },
        "id": "zoIPWn5HSpFA",
        "outputId": "f978ce21-df4c-4ef4-a7c0-fcd09dfc9957"
      },
      "source": [
        "plt.plot(eSol2)"
      ],
      "execution_count": 65,
      "outputs": [
        {
          "output_type": "execute_result",
          "data": {
            "text/plain": [
              "[<matplotlib.lines.Line2D at 0x7ff33eba0950>]"
            ]
          },
          "metadata": {},
          "execution_count": 65
        },
        {
          "output_type": "display_data",
          "data": {
            "image/png": "[encoded data removed]",
            "text/plain": [
              "<Figure size 432x288 with 1 Axes>"
            ]
          },
          "metadata": {
            "needs_background": "light"
          }
        }
      ]
    },
    {
      "cell_type": "markdown",
      "metadata": {
        "id": "GQ_0qw5TS12i"
      },
      "source": [
        "### Grafica de Tasa de Convergencia"
      ]
    },
    {
      "cell_type": "code",
      "metadata": {
        "colab": {
          "base_uri": "https://localhost:8080/",
          "height": 337
        },
        "id": "MPG5gvy8S22M",
        "outputId": "95ef4572-a679-451b-e127-8b8ee6657db8"
      },
      "source": [
        "ySol2=abs(np.array(xSol2)-xSol2[-1])\n",
        "tSol2=[]\n",
        "for i in range(len(ySol2)-1):\n",
        "  t=ySol2[i+1]/ySol2[i]\n",
        "  tSol2.append(t)\n",
        "\n",
        "pSol2=(1+np.sqrt(5))/2\n",
        "\n",
        "plt.plot(tSol2)\n",
        "plt.plot(pSol2*np.ones(len(tSol2)))"
      ],
      "execution_count": 66,
      "outputs": [
        {
          "output_type": "stream",
          "name": "stderr",
          "text": [
            "/usr/local/lib/python3.7/dist-packages/ipykernel_launcher.py:4: RuntimeWarning: invalid value encountered in double_scalars\n",
            "  after removing the cwd from sys.path.\n"
          ]
        },
        {
          "output_type": "execute_result",
          "data": {
            "text/plain": [
              "[<matplotlib.lines.Line2D at 0x7ff33eb18750>]"
            ]
          },
          "metadata": {},
          "execution_count": 66
        },
        {
          "output_type": "display_data",
          "data": {
            "image/png": "[encoded data removed]",
            "text/plain": [
              "<Figure size 432x288 with 1 Axes>"
            ]
          },
          "metadata": {
            "needs_background": "light"
          }
        }
      ]
    },
    {
      "cell_type": "markdown",
      "metadata": {
        "id": "RbIp5JtaIqD8"
      },
      "source": [
        "# Conclusiones\n",
        "\n",
        "*   El metodo Golden al usarlo sin iteraciones converge mas lento.\n",
        "*   El metodo Golden al usarlo con iteraciones converge mas rapido que al usarlo sin ellas.\n",
        "*   El metodo de Brent al usuarlo sin iteraciones converge casi igual de rapido que al usarlo con iteraciones.\n",
        "*   El metodo de Brent converge mas rapido que el metodo Golden.\n",
        "* El error relativo del metodo Golden es mas pequeño que el del metodo de Brent.\n",
        "\n",
        "\n",
        "\n"
      ]
    },
    {
      "cell_type": "markdown",
      "metadata": {
        "id": "WxNx5rFeIwJz"
      },
      "source": [
        "# Referencias\n",
        "Heath, M. T. (2018). Scientific Computing: An Introductory Survey, Revised Second Edition. Society for Industrial and Applied Mathematics.\n",
        "\n",
        "Simone, P. (2009). Metodos numericos 2009, Universidad Nacional de Cuyo."
      ]
    }
  ]
}